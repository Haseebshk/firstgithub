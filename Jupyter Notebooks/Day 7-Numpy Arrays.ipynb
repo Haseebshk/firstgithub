{
 "cells": [
  {
   "cell_type": "markdown",
   "id": "36fafa00",
   "metadata": {},
   "source": [
    "# Day 7-Numpy Arrays "
   ]
  },
  {
   "cell_type": "markdown",
   "id": "fb091c05",
   "metadata": {},
   "source": [
    "## 1-D Array"
   ]
  },
  {
   "cell_type": "code",
   "execution_count": 92,
   "id": "a4e83734",
   "metadata": {},
   "outputs": [
    {
     "data": {
      "text/plain": [
       "array([[1, 2, 3]])"
      ]
     },
     "execution_count": 92,
     "metadata": {},
     "output_type": "execute_result"
    }
   ],
   "source": [
    "import numpy as np\n",
    "a= np.array([[1,2,3]])\n",
    "a"
   ]
  },
  {
   "cell_type": "code",
   "execution_count": 8,
   "id": "23f979de",
   "metadata": {},
   "outputs": [
    {
     "data": {
      "text/plain": [
       "array([0., 0., 0., 0., 0., 0., 0., 0., 0., 0.])"
      ]
     },
     "execution_count": 8,
     "metadata": {},
     "output_type": "execute_result"
    }
   ],
   "source": [
    "a=np.zeros(10) # here number in brackets define \n",
    "#the number of zeroes\n",
    "a"
   ]
  },
  {
   "cell_type": "code",
   "execution_count": 9,
   "id": "90b3486b",
   "metadata": {},
   "outputs": [
    {
     "data": {
      "text/plain": [
       "array([1., 1., 1., 1., 1., 1., 1., 1., 1., 1.])"
      ]
     },
     "execution_count": 9,
     "metadata": {},
     "output_type": "execute_result"
    }
   ],
   "source": [
    "b=np.ones(10)\n",
    "b"
   ]
  },
  {
   "cell_type": "code",
   "execution_count": 12,
   "id": "0ea726e0",
   "metadata": {},
   "outputs": [
    {
     "data": {
      "text/plain": [
       "array([], dtype=float64)"
      ]
     },
     "execution_count": 12,
     "metadata": {},
     "output_type": "execute_result"
    }
   ],
   "source": [
    "c=np.empty(0)\n",
    "c"
   ]
  },
  {
   "cell_type": "code",
   "execution_count": 13,
   "id": "16c6a606",
   "metadata": {},
   "outputs": [
    {
     "data": {
      "text/plain": [
       "array([0, 1, 2, 3, 4, 5])"
      ]
     },
     "execution_count": 13,
     "metadata": {},
     "output_type": "execute_result"
    }
   ],
   "source": [
    "d=np.arange(6)\n",
    "d"
   ]
  },
  {
   "cell_type": "code",
   "execution_count": 15,
   "id": "691e9d8a",
   "metadata": {},
   "outputs": [
    {
     "data": {
      "text/plain": [
       "array([ 2,  6, 10, 14, 18])"
      ]
     },
     "execution_count": 15,
     "metadata": {},
     "output_type": "execute_result"
    }
   ],
   "source": [
    "e=np.arange (2,20,4)\n",
    "e"
   ]
  },
  {
   "cell_type": "code",
   "execution_count": 22,
   "id": "4466b2e4",
   "metadata": {},
   "outputs": [
    {
     "data": {
      "text/plain": [
       "array([ 0. ,  2.5,  5. ,  7.5, 10. , 12.5, 15. , 17.5, 20. ])"
      ]
     },
     "execution_count": 22,
     "metadata": {},
     "output_type": "execute_result"
    }
   ],
   "source": [
    "f=np.linspace(0,20,num=9)\n",
    "f"
   ]
  },
  {
   "cell_type": "code",
   "execution_count": 28,
   "id": "c5d47069",
   "metadata": {},
   "outputs": [
    {
     "data": {
      "text/plain": [
       "array([1., 1., 1., 1., 1., 1., 1., 1., 1., 1.])"
      ]
     },
     "execution_count": 28,
     "metadata": {},
     "output_type": "execute_result"
    }
   ],
   "source": [
    "g=np.ones(10,dtype=np.float64)\n",
    "g"
   ]
  },
  {
   "cell_type": "code",
   "execution_count": 29,
   "id": "0666c1b2",
   "metadata": {},
   "outputs": [],
   "source": [
    "# int8, int32, float64; the number here shows the number of bits"
   ]
  },
  {
   "cell_type": "markdown",
   "id": "6043b390",
   "metadata": {},
   "source": [
    "## 2-D Array"
   ]
  },
  {
   "cell_type": "code",
   "execution_count": 14,
   "id": "acfccf22",
   "metadata": {},
   "outputs": [
    {
     "data": {
      "text/plain": [
       "array([ 2,  3,  4,  5,  6,  7,  8,  9, 10, 11, 12, 13, 14, 15, 16, 17, 18,\n",
       "       19])"
      ]
     },
     "execution_count": 14,
     "metadata": {},
     "output_type": "execute_result"
    }
   ],
   "source": [
    "d=np.arange(2,20)\n",
    "d"
   ]
  },
  {
   "cell_type": "code",
   "execution_count": 4,
   "id": "80364734",
   "metadata": {},
   "outputs": [
    {
     "data": {
      "text/plain": [
       "array([[3, 2, 5],\n",
       "       [2, 4, 6]])"
      ]
     },
     "execution_count": 4,
     "metadata": {},
     "output_type": "execute_result"
    }
   ],
   "source": [
    "a=np.array([[3,2,5],[2,4,6]])\n",
    "a"
   ]
  },
  {
   "cell_type": "markdown",
   "id": "981ffd1d",
   "metadata": {},
   "source": [
    "a"
   ]
  },
  {
   "cell_type": "code",
   "execution_count": 32,
   "id": "741f1f28",
   "metadata": {},
   "outputs": [
    {
     "data": {
      "text/plain": [
       "array([[1., 1., 1.],\n",
       "       [1., 1., 1.]])"
      ]
     },
     "execution_count": 32,
     "metadata": {},
     "output_type": "execute_result"
    }
   ],
   "source": [
    "e=np.ones((2,3))\n",
    "e"
   ]
  },
  {
   "cell_type": "code",
   "execution_count": 36,
   "id": "9725ebea",
   "metadata": {},
   "outputs": [
    {
     "data": {
      "text/plain": [
       "array([[ 2.5,  5. ,  7.5, 10. ],\n",
       "       [12.5, 15. , 17.5, 20. ]])"
      ]
     },
     "execution_count": 36,
     "metadata": {},
     "output_type": "execute_result"
    }
   ],
   "source": [
    "f=np.empty((2,4))\n",
    "f"
   ]
  },
  {
   "cell_type": "markdown",
   "id": "0e58481d",
   "metadata": {},
   "source": [
    "## 3-D Array"
   ]
  },
  {
   "cell_type": "markdown",
   "id": "b4b63c9d",
   "metadata": {},
   "source": [
    "In 3-D Array the first variable shows the number of matrices say i, while remaining two shows rows (horizontal vectors) say j "
   ]
  },
  {
   "cell_type": "code",
   "execution_count": 35,
   "id": "d05a25b9",
   "metadata": {},
   "outputs": [
    {
     "data": {
      "text/plain": [
       "array([[[0., 0., 0.],\n",
       "        [0., 0., 0.]],\n",
       "\n",
       "       [[0., 0., 0.],\n",
       "        [0., 0., 0.]],\n",
       "\n",
       "       [[0., 0., 0.],\n",
       "        [0., 0., 0.]],\n",
       "\n",
       "       [[0., 0., 0.],\n",
       "        [0., 0., 0.]]])"
      ]
     },
     "execution_count": 35,
     "metadata": {},
     "output_type": "execute_result"
    }
   ],
   "source": [
    "g=np.zeros((4,2,3))\n",
    "g"
   ]
  },
  {
   "cell_type": "code",
   "execution_count": 55,
   "id": "f5e74d04",
   "metadata": {},
   "outputs": [
    {
     "data": {
      "text/plain": [
       "array([[[ 0,  1,  2],\n",
       "        [ 3,  4,  5],\n",
       "        [ 6,  7,  8],\n",
       "        [ 9, 10, 11]],\n",
       "\n",
       "       [[12, 13, 14],\n",
       "        [15, 16, 17],\n",
       "        [18, 19, 20],\n",
       "        [21, 22, 23]]])"
      ]
     },
     "execution_count": 55,
     "metadata": {},
     "output_type": "execute_result"
    }
   ],
   "source": [
    "mat=np.arange(24).reshape(2,4,3)\n",
    "mat"
   ]
  },
  {
   "cell_type": "markdown",
   "id": "3b41ce31",
   "metadata": {},
   "source": [
    "## N-D array"
   ]
  },
  {
   "cell_type": "markdown",
   "id": "e534a738",
   "metadata": {},
   "source": [
    "np.arange(number of elements).reshape(1st, 2nd, 3rd,..........,nth) such that 1st * 2nd * 3rd *,.............., * nth= number of elements (i.e rank=number of elements)"
   ]
  },
  {
   "cell_type": "markdown",
   "id": "8a819a99",
   "metadata": {},
   "source": [
    "It should be noted the the first dimension defines the uppermost sub-arrays following by 2nd, 3rd upto nth dimension following last in first out (LIFO) concept."
   ]
  },
  {
   "cell_type": "markdown",
   "id": "a8676c8f",
   "metadata": {},
   "source": [
    "lets take an example"
   ]
  },
  {
   "cell_type": "markdown",
   "id": "6ffa2fde",
   "metadata": {},
   "source": [
    "In below array the total number of elements or say items are 100, we have arranged them in five dimensions in a way that the multiplication of elements in each dimension i.e rank or total number of elements remain same.\n",
    "Here 1 * 2 * 5 * 2 * 5=100."
   ]
  },
  {
   "cell_type": "code",
   "execution_count": 61,
   "id": "b4c9ff91",
   "metadata": {},
   "outputs": [
    {
     "data": {
      "text/plain": [
       "array([[[[[ 0,  1,  2,  3,  4],\n",
       "          [ 5,  6,  7,  8,  9]],\n",
       "\n",
       "         [[10, 11, 12, 13, 14],\n",
       "          [15, 16, 17, 18, 19]],\n",
       "\n",
       "         [[20, 21, 22, 23, 24],\n",
       "          [25, 26, 27, 28, 29]],\n",
       "\n",
       "         [[30, 31, 32, 33, 34],\n",
       "          [35, 36, 37, 38, 39]],\n",
       "\n",
       "         [[40, 41, 42, 43, 44],\n",
       "          [45, 46, 47, 48, 49]]],\n",
       "\n",
       "\n",
       "        [[[50, 51, 52, 53, 54],\n",
       "          [55, 56, 57, 58, 59]],\n",
       "\n",
       "         [[60, 61, 62, 63, 64],\n",
       "          [65, 66, 67, 68, 69]],\n",
       "\n",
       "         [[70, 71, 72, 73, 74],\n",
       "          [75, 76, 77, 78, 79]],\n",
       "\n",
       "         [[80, 81, 82, 83, 84],\n",
       "          [85, 86, 87, 88, 89]],\n",
       "\n",
       "         [[90, 91, 92, 93, 94],\n",
       "          [95, 96, 97, 98, 99]]]]])"
      ]
     },
     "execution_count": 61,
     "metadata": {},
     "output_type": "execute_result"
    }
   ],
   "source": [
    "mat=np.arange(100).reshape(1,2,5,2,5)\n",
    "mat"
   ]
  },
  {
   "cell_type": "markdown",
   "id": "ccb160aa",
   "metadata": {},
   "source": [
    "## For finding number of dimensions"
   ]
  },
  {
   "cell_type": "code",
   "execution_count": 63,
   "id": "df90cd8f",
   "metadata": {},
   "outputs": [
    {
     "data": {
      "text/plain": [
       "5"
      ]
     },
     "execution_count": 63,
     "metadata": {},
     "output_type": "execute_result"
    }
   ],
   "source": [
    "mat.ndim"
   ]
  },
  {
   "cell_type": "markdown",
   "id": "af059676",
   "metadata": {},
   "source": [
    "So the above matrix is five dimensional. \n",
    "\n",
    "One might thing that the world is three dimensional then how can more than three dimensional array is practical. So, for clarification here dimension is actually like the layers to reach the main elements that are arranged in a particular way. Practically objects mainly exist in three dimensions with time as fourth for a fan of Sir Albert Einstein."
   ]
  },
  {
   "cell_type": "markdown",
   "id": "6e53a7c2",
   "metadata": {},
   "source": [
    "## For finding Shape"
   ]
  },
  {
   "cell_type": "code",
   "execution_count": 64,
   "id": "12854f42",
   "metadata": {},
   "outputs": [
    {
     "data": {
      "text/plain": [
       "(1, 2, 5, 2, 5)"
      ]
     },
     "execution_count": 64,
     "metadata": {},
     "output_type": "execute_result"
    }
   ],
   "source": [
    "mat.shape"
   ]
  },
  {
   "cell_type": "markdown",
   "id": "d72a8fec",
   "metadata": {},
   "source": [
    "# For reshapping it"
   ]
  },
  {
   "cell_type": "code",
   "execution_count": 72,
   "id": "359cb3ad",
   "metadata": {},
   "outputs": [
    {
     "data": {
      "text/plain": [
       "array([[[ 0,  1,  2,  3,  4],\n",
       "        [ 5,  6,  7,  8,  9],\n",
       "        [10, 11, 12, 13, 14],\n",
       "        [15, 16, 17, 18, 19],\n",
       "        [20, 21, 22, 23, 24],\n",
       "        [25, 26, 27, 28, 29],\n",
       "        [30, 31, 32, 33, 34],\n",
       "        [35, 36, 37, 38, 39],\n",
       "        [40, 41, 42, 43, 44],\n",
       "        [45, 46, 47, 48, 49]],\n",
       "\n",
       "       [[50, 51, 52, 53, 54],\n",
       "        [55, 56, 57, 58, 59],\n",
       "        [60, 61, 62, 63, 64],\n",
       "        [65, 66, 67, 68, 69],\n",
       "        [70, 71, 72, 73, 74],\n",
       "        [75, 76, 77, 78, 79],\n",
       "        [80, 81, 82, 83, 84],\n",
       "        [85, 86, 87, 88, 89],\n",
       "        [90, 91, 92, 93, 94],\n",
       "        [95, 96, 97, 98, 99]]])"
      ]
     },
     "execution_count": 72,
     "metadata": {},
     "output_type": "execute_result"
    }
   ],
   "source": [
    "z=mat.reshape(2,10,5) # now its converted from 5 to 3 dimensions. Coooooooool :)\n",
    "z"
   ]
  },
  {
   "cell_type": "code",
   "execution_count": 73,
   "id": "870f1ba4",
   "metadata": {},
   "outputs": [
    {
     "data": {
      "text/plain": [
       "3"
      ]
     },
     "execution_count": 73,
     "metadata": {},
     "output_type": "execute_result"
    }
   ],
   "source": [
    "z.ndim"
   ]
  },
  {
   "cell_type": "code",
   "execution_count": 82,
   "id": "26c31147",
   "metadata": {},
   "outputs": [
    {
     "data": {
      "text/plain": [
       "array([[[ 0,  1,  2,  3,  4],\n",
       "        [ 5,  6,  7,  8,  9],\n",
       "        [10, 11, 12, 13, 14],\n",
       "        [15, 16, 17, 18, 19],\n",
       "        [20, 21, 22, 23, 24],\n",
       "        [25, 26, 27, 28, 29],\n",
       "        [30, 31, 32, 33, 34],\n",
       "        [35, 36, 37, 38, 39],\n",
       "        [40, 41, 42, 43, 44],\n",
       "        [45, 46, 47, 48, 49]],\n",
       "\n",
       "       [[50, 51, 52, 53, 54],\n",
       "        [55, 56, 57, 58, 59],\n",
       "        [60, 61, 62, 63, 64],\n",
       "        [65, 66, 67, 68, 69],\n",
       "        [70, 71, 72, 73, 74],\n",
       "        [75, 76, 77, 78, 79],\n",
       "        [80, 81, 82, 83, 84],\n",
       "        [85, 86, 87, 88, 89],\n",
       "        [90, 91, 92, 93, 94],\n",
       "        [95, 96, 97, 98, 99]]])"
      ]
     },
     "execution_count": 82,
     "metadata": {},
     "output_type": "execute_result"
    }
   ],
   "source": [
    "np.reshape(mat, newshape=(2,10,5), order=\"C\")"
   ]
  },
  {
   "cell_type": "code",
   "execution_count": 81,
   "id": "4b6f3407",
   "metadata": {},
   "outputs": [
    {
     "data": {
      "text/plain": [
       "array([[[ 0,  1,  2,  3,  4],\n",
       "        [10, 11, 12, 13, 14],\n",
       "        [20, 21, 22, 23, 24],\n",
       "        [30, 31, 32, 33, 34],\n",
       "        [40, 41, 42, 43, 44],\n",
       "        [ 5,  6,  7,  8,  9],\n",
       "        [15, 16, 17, 18, 19],\n",
       "        [25, 26, 27, 28, 29],\n",
       "        [35, 36, 37, 38, 39],\n",
       "        [45, 46, 47, 48, 49]],\n",
       "\n",
       "       [[50, 51, 52, 53, 54],\n",
       "        [60, 61, 62, 63, 64],\n",
       "        [70, 71, 72, 73, 74],\n",
       "        [80, 81, 82, 83, 84],\n",
       "        [90, 91, 92, 93, 94],\n",
       "        [55, 56, 57, 58, 59],\n",
       "        [65, 66, 67, 68, 69],\n",
       "        [75, 76, 77, 78, 79],\n",
       "        [85, 86, 87, 88, 89],\n",
       "        [95, 96, 97, 98, 99]]])"
      ]
     },
     "execution_count": 81,
     "metadata": {},
     "output_type": "execute_result"
    }
   ],
   "source": [
    "np.reshape(mat, newshape=(2,10,5), order=\"F\")"
   ]
  },
  {
   "cell_type": "markdown",
   "id": "96f91b80",
   "metadata": {},
   "source": [
    "# An Attempt to explain order C and F in Your Way\n",
    "\n",
    "say we have (shoper, packet) elements = pakora, order C that is also by default will prioritise the shoppers for pakora distribution rather than packet like if there are 2 shoppers and each of it contain 3 small packets each containing 2 pakoras for distribution first put 2 packoras in each shopper like 2 in one packet of one shopper than 2 one paket of other shoper and repeat is process untill its over. While order F prioritise the packet over shopper so first it fill all the packets in one shopper than it do with other. So in other words 1st dimension here (n-1th dimension in general) that is rows here shoppers is prioritize in C order while F prioritise second dimension (nth dimension) here that is collumns/ packets. In place of it A just chose any of one of them keeping suitability under consideration.\n",
    "\n",
    "I am not sure but it seems A order is used when one is not worry about which should be prioritise rows or columns."
   ]
  },
  {
   "cell_type": "code",
   "execution_count": 101,
   "id": "26f82742",
   "metadata": {},
   "outputs": [
    {
     "data": {
      "text/plain": [
       "array([1, 2, 3])"
      ]
     },
     "execution_count": 101,
     "metadata": {},
     "output_type": "execute_result"
    }
   ],
   "source": [
    "a= np.array([1,2,3])\n",
    "a"
   ]
  },
  {
   "cell_type": "code",
   "execution_count": 107,
   "id": "b4f95ff9",
   "metadata": {},
   "outputs": [
    {
     "data": {
      "text/plain": [
       "array([[1, 2, 3]])"
      ]
     },
     "execution_count": 107,
     "metadata": {},
     "output_type": "execute_result"
    }
   ],
   "source": [
    "# (1,3)\n",
    "b=a[np.newaxis,:]\n",
    "b"
   ]
  },
  {
   "cell_type": "code",
   "execution_count": 103,
   "id": "20fa4f4e",
   "metadata": {},
   "outputs": [
    {
     "data": {
      "text/plain": [
       "array([[1],\n",
       "       [2],\n",
       "       [3]])"
      ]
     },
     "execution_count": 103,
     "metadata": {},
     "output_type": "execute_result"
    }
   ],
   "source": [
    "# (3,1) \n",
    "c=a[:, np.newaxis]\n",
    "c"
   ]
  },
  {
   "cell_type": "code",
   "execution_count": 104,
   "id": "6413dca6",
   "metadata": {},
   "outputs": [
    {
     "data": {
      "text/plain": [
       "(3, 1)"
      ]
     },
     "execution_count": 104,
     "metadata": {},
     "output_type": "execute_result"
    }
   ],
   "source": [
    "c.shape"
   ]
  },
  {
   "cell_type": "code",
   "execution_count": 105,
   "id": "1fd622dd",
   "metadata": {},
   "outputs": [
    {
     "data": {
      "text/plain": [
       "(1, 3)"
      ]
     },
     "execution_count": 105,
     "metadata": {},
     "output_type": "execute_result"
    }
   ],
   "source": [
    "b.shape"
   ]
  },
  {
   "cell_type": "code",
   "execution_count": 106,
   "id": "5c0ea1ec",
   "metadata": {},
   "outputs": [
    {
     "data": {
      "text/plain": [
       "array([[1],\n",
       "       [2],\n",
       "       [3]])"
      ]
     },
     "execution_count": 106,
     "metadata": {},
     "output_type": "execute_result"
    }
   ],
   "source": [
    "c"
   ]
  },
  {
   "cell_type": "markdown",
   "id": "e3fe3eea",
   "metadata": {},
   "source": [
    "### Simple way to recognise number columns is that you just count the items (most basic like here 1, 2 and 3) between two large brackets. "
   ]
  },
  {
   "cell_type": "markdown",
   "id": "a18027c9",
   "metadata": {},
   "source": [
    "# Indexing Slicing"
   ]
  },
  {
   "cell_type": "code",
   "execution_count": 108,
   "id": "a695b352",
   "metadata": {},
   "outputs": [
    {
     "data": {
      "text/plain": [
       "array([1, 2, 3])"
      ]
     },
     "execution_count": 108,
     "metadata": {},
     "output_type": "execute_result"
    }
   ],
   "source": [
    "a"
   ]
  },
  {
   "cell_type": "code",
   "execution_count": 109,
   "id": "af4880a2",
   "metadata": {},
   "outputs": [
    {
     "data": {
      "text/plain": [
       "array([2, 3])"
      ]
     },
     "execution_count": 109,
     "metadata": {},
     "output_type": "execute_result"
    }
   ],
   "source": [
    "a[1:3]"
   ]
  },
  {
   "cell_type": "code",
   "execution_count": 1,
   "id": "68e06047",
   "metadata": {},
   "outputs": [
    {
     "name": "stdout",
     "output_type": "stream",
     "text": [
      "Requirement already satisfied: nbconvert in c:\\users\\abdul haseeb\\anaconda3\\lib\\site-packages (6.1.0)\n",
      "Requirement already satisfied: testpath in c:\\users\\abdul haseeb\\anaconda3\\lib\\site-packages (from nbconvert) (0.5.0)Note: you may need to restart the kernel to use updated packages.\n",
      "Requirement already satisfied: mistune<2,>=0.8.1 in c:\\users\\abdul haseeb\\anaconda3\\lib\\site-packages (from nbconvert) (0.8.4)\n",
      "Requirement already satisfied: entrypoints>=0.2.2 in c:\\users\\abdul haseeb\\anaconda3\\lib\\site-packages (from nbconvert) (0.3)\n",
      "Requirement already satisfied: jupyter-core in c:\\users\\abdul haseeb\\anaconda3\\lib\\site-packages (from nbconvert) (4.8.1)\n",
      "Requirement already satisfied: jinja2>=2.4 in c:\\users\\abdul haseeb\\anaconda3\\lib\\site-packages (from nbconvert) (2.11.3)\n",
      "Requirement already satisfied: pygments>=2.4.1 in c:\\users\\abdul haseeb\\anaconda3\\lib\\site-packages (from nbconvert) (2.10.0)\n",
      "Requirement already satisfied: jupyterlab-pygments in c:\\users\\abdul haseeb\\anaconda3\\lib\\site-packages (from nbconvert) (0.1.2)\n",
      "Requirement already satisfied: traitlets>=5.0 in c:\\users\\abdul haseeb\\anaconda3\\lib\\site-packages (from nbconvert) (5.1.0)\n",
      "Requirement already satisfied: pandocfilters>=1.4.1 in c:\\users\\abdul haseeb\\anaconda3\\lib\\site-packages (from nbconvert) (1.4.3)\n",
      "Requirement already satisfied: nbclient<0.6.0,>=0.5.0 in c:\\users\\abdul haseeb\\anaconda3\\lib\\site-packages (from nbconvert) (0.5.3)\n",
      "Requirement already satisfied: bleach in c:\\users\\abdul haseeb\\anaconda3\\lib\\site-packages (from nbconvert) (4.0.0)\n",
      "Requirement already satisfied: defusedxml in c:\\users\\abdul haseeb\\anaconda3\\lib\\site-packages (from nbconvert) (0.7.1)\n",
      "Requirement already satisfied: nbformat>=4.4 in c:\\users\\abdul haseeb\\anaconda3\\lib\\site-packages (from nbconvert) (5.1.3)\n",
      "Requirement already satisfied: MarkupSafe>=0.23 in c:\\users\\abdul haseeb\\anaconda3\\lib\\site-packages (from jinja2>=2.4->nbconvert) (1.1.1)\n",
      "Requirement already satisfied: async-generator in c:\\users\\abdul haseeb\\anaconda3\\lib\\site-packages (from nbclient<0.6.0,>=0.5.0->nbconvert) (1.10)\n",
      "Requirement already satisfied: nest-asyncio in c:\\users\\abdul haseeb\\anaconda3\\lib\\site-packages (from nbclient<0.6.0,>=0.5.0->nbconvert) (1.5.1)\n",
      "Requirement already satisfied: jupyter-client>=6.1.5 in c:\\users\\abdul haseeb\\anaconda3\\lib\\site-packages (from nbclient<0.6.0,>=0.5.0->nbconvert) (6.1.12)\n",
      "Requirement already satisfied: python-dateutil>=2.1 in c:\\users\\abdul haseeb\\anaconda3\\lib\\site-packages (from jupyter-client>=6.1.5->nbclient<0.6.0,>=0.5.0->nbconvert) (2.8.2)\n",
      "\n",
      "Requirement already satisfied: pyzmq>=13 in c:\\users\\abdul haseeb\\anaconda3\\lib\\site-packages (from jupyter-client>=6.1.5->nbclient<0.6.0,>=0.5.0->nbconvert) (22.2.1)\n",
      "Requirement already satisfied: tornado>=4.1 in c:\\users\\abdul haseeb\\anaconda3\\lib\\site-packages (from jupyter-client>=6.1.5->nbclient<0.6.0,>=0.5.0->nbconvert) (6.1)\n",
      "Requirement already satisfied: pywin32>=1.0 in c:\\users\\abdul haseeb\\anaconda3\\lib\\site-packages (from jupyter-core->nbconvert) (228)\n",
      "Requirement already satisfied: ipython-genutils in c:\\users\\abdul haseeb\\anaconda3\\lib\\site-packages (from nbformat>=4.4->nbconvert) (0.2.0)\n",
      "Requirement already satisfied: jsonschema!=2.5.0,>=2.4 in c:\\users\\abdul haseeb\\anaconda3\\lib\\site-packages (from nbformat>=4.4->nbconvert) (3.2.0)\n",
      "Requirement already satisfied: attrs>=17.4.0 in c:\\users\\abdul haseeb\\anaconda3\\lib\\site-packages (from jsonschema!=2.5.0,>=2.4->nbformat>=4.4->nbconvert) (21.2.0)\n",
      "Requirement already satisfied: pyrsistent>=0.14.0 in c:\\users\\abdul haseeb\\anaconda3\\lib\\site-packages (from jsonschema!=2.5.0,>=2.4->nbformat>=4.4->nbconvert) (0.18.0)\n",
      "Requirement already satisfied: setuptools in c:\\users\\abdul haseeb\\anaconda3\\lib\\site-packages (from jsonschema!=2.5.0,>=2.4->nbformat>=4.4->nbconvert) (58.0.4)\n",
      "Requirement already satisfied: six>=1.11.0 in c:\\users\\abdul haseeb\\anaconda3\\lib\\site-packages (from jsonschema!=2.5.0,>=2.4->nbformat>=4.4->nbconvert) (1.16.0)\n",
      "Requirement already satisfied: webencodings in c:\\users\\abdul haseeb\\anaconda3\\lib\\site-packages (from bleach->nbconvert) (0.5.1)\n",
      "Requirement already satisfied: packaging in c:\\users\\abdul haseeb\\anaconda3\\lib\\site-packages (from bleach->nbconvert) (21.0)\n",
      "Requirement already satisfied: pyparsing>=2.0.2 in c:\\users\\abdul haseeb\\anaconda3\\lib\\site-packages (from packaging->bleach->nbconvert) (3.0.4)\n"
     ]
    }
   ],
   "source": [
    "pip install nbconvert"
   ]
  },
  {
   "cell_type": "code",
   "execution_count": 1,
   "id": "b0d65c63",
   "metadata": {
    "scrolled": false
   },
   "outputs": [
    {
     "name": "stdout",
     "output_type": "stream",
     "text": [
      "Requirement already satisfied: jupyterlab in c:\\users\\abdul haseeb\\anaconda3\\lib\\site-packages (3.2.1)\n",
      "Requirement already satisfied: ipython in c:\\users\\abdul haseeb\\anaconda3\\lib\\site-packages (from jupyterlab) (7.29.0)\n",
      "Requirement already satisfied: jupyter-server~=1.4 in c:\\users\\abdul haseeb\\anaconda3\\lib\\site-packages (from jupyterlab) (1.4.1)\n",
      "Requirement already satisfied: tornado>=6.1.0 in c:\\users\\abdul haseeb\\anaconda3\\lib\\site-packages (from jupyterlab) (6.1)\n",
      "Requirement already satisfied: jupyterlab-server~=2.3 in c:\\users\\abdul haseeb\\anaconda3\\lib\\site-packages (from jupyterlab) (2.8.2)\n",
      "Requirement already satisfied: packaging in c:\\users\\abdul haseeb\\anaconda3\\lib\\site-packages (from jupyterlab) (21.0)\n",
      "Requirement already satisfied: nbclassic~=0.2 in c:\\users\\abdul haseeb\\anaconda3\\lib\\site-packages (from jupyterlab) (0.2.6)\n",
      "Requirement already satisfied: jupyter-core in c:\\users\\abdul haseeb\\anaconda3\\lib\\site-packages (from jupyterlab) (4.8.1)\n",
      "Requirement already satisfied: jinja2>=2.1 in c:\\users\\abdul haseeb\\anaconda3\\lib\\site-packages (from jupyterlab) (2.11.3)\n",
      "Requirement already satisfied: MarkupSafe>=0.23 in c:\\users\\abdul haseeb\\anaconda3\\lib\\site-packages (from jinja2>=2.1->jupyterlab) (1.1.1)\n",
      "Requirement already satisfied: traitlets>=4.2.1 in c:\\users\\abdul haseeb\\anaconda3\\lib\\site-packages (from jupyter-server~=1.4->jupyterlab) (5.1.0)\n",
      "Requirement already satisfied: jupyter-client>=6.1.1 in c:\\users\\abdul haseeb\\anaconda3\\lib\\site-packages (from jupyter-server~=1.4->jupyterlab) (6.1.12)\n",
      "Requirement already satisfied: pyzmq>=17 in c:\\users\\abdul haseeb\\anaconda3\\lib\\site-packages (from jupyter-server~=1.4->jupyterlab) (22.2.1)\n",
      "Requirement already satisfied: anyio>=2.0.2 in c:\\users\\abdul haseeb\\anaconda3\\lib\\site-packages (from jupyter-server~=1.4->jupyterlab) (2.2.0)\n",
      "Requirement already satisfied: pywin32>=1.0 in c:\\users\\abdul haseeb\\anaconda3\\lib\\site-packages (from jupyter-server~=1.4->jupyterlab) (228)\n",
      "Requirement already satisfied: Send2Trash in c:\\users\\abdul haseeb\\anaconda3\\lib\\site-packages (from jupyter-server~=1.4->jupyterlab) (1.8.0)\n",
      "Requirement already satisfied: nbconvert in c:\\users\\abdul haseeb\\anaconda3\\lib\\site-packages (from jupyter-server~=1.4->jupyterlab) (6.1.0)\n",
      "Requirement already satisfied: nbformat in c:\\users\\abdul haseeb\\anaconda3\\lib\\site-packages (from jupyter-server~=1.4->jupyterlab) (5.1.3)\n",
      "Requirement already satisfied: ipython-genutils in c:\\users\\abdul haseeb\\anaconda3\\lib\\site-packages (from jupyter-server~=1.4->jupyterlab) (0.2.0)\n",
      "Requirement already satisfied: prometheus-client in c:\\users\\abdul haseeb\\anaconda3\\lib\\site-packages (from jupyter-server~=1.4->jupyterlab) (0.11.0)\n",
      "Requirement already satisfied: terminado>=0.8.3 in c:\\users\\abdul haseeb\\anaconda3\\lib\\site-packages (from jupyter-server~=1.4->jupyterlab) (0.9.4)\n",
      "Requirement already satisfied: sniffio>=1.1 in c:\\users\\abdul haseeb\\anaconda3\\lib\\site-packages (from anyio>=2.0.2->jupyter-server~=1.4->jupyterlab) (1.2.0)\n",
      "Requirement already satisfied: idna>=2.8 in c:\\users\\abdul haseeb\\anaconda3\\lib\\site-packages (from anyio>=2.0.2->jupyter-server~=1.4->jupyterlab) (3.2)\n",
      "Requirement already satisfied: python-dateutil>=2.1 in c:\\users\\abdul haseeb\\anaconda3\\lib\\site-packages (from jupyter-client>=6.1.1->jupyter-server~=1.4->jupyterlab) (2.8.2)\n",
      "Requirement already satisfied: requests in c:\\users\\abdul haseeb\\anaconda3\\lib\\site-packages (from jupyterlab-server~=2.3->jupyterlab) (2.26.0)\n",
      "Requirement already satisfied: babel in c:\\users\\abdul haseeb\\anaconda3\\lib\\site-packages (from jupyterlab-server~=2.3->jupyterlab) (2.9.1)\n",
      "Requirement already satisfied: jsonschema>=3.0.1 in c:\\users\\abdul haseeb\\anaconda3\\lib\\site-packages (from jupyterlab-server~=2.3->jupyterlab) (3.2.0)\n",
      "Requirement already satisfied: entrypoints>=0.2.2 in c:\\users\\abdul haseeb\\anaconda3\\lib\\site-packages (from jupyterlab-server~=2.3->jupyterlab) (0.3)\n",
      "Requirement already satisfied: json5 in c:\\users\\abdul haseeb\\anaconda3\\lib\\site-packages (from jupyterlab-server~=2.3->jupyterlab) (0.9.6)\n",
      "Requirement already satisfied: pyrsistent>=0.14.0 in c:\\users\\abdul haseeb\\anaconda3\\lib\\site-packages (from jsonschema>=3.0.1->jupyterlab-server~=2.3->jupyterlab) (0.18.0)\n",
      "Requirement already satisfied: six>=1.11.0 in c:\\users\\abdul haseeb\\anaconda3\\lib\\site-packages (from jsonschema>=3.0.1->jupyterlab-server~=2.3->jupyterlab) (1.16.0)\n",
      "Requirement already satisfied: attrs>=17.4.0 in c:\\users\\abdul haseeb\\anaconda3\\lib\\site-packages (from jsonschema>=3.0.1->jupyterlab-server~=2.3->jupyterlab) (21.2.0)\n",
      "Requirement already satisfied: setuptools in c:\\users\\abdul haseeb\\anaconda3\\lib\\site-packages (from jsonschema>=3.0.1->jupyterlab-server~=2.3->jupyterlab) (58.0.4)Note: you may need to restart the kernel to use updated packages.\n",
      "Requirement already satisfied: notebook<7 in c:\\users\\abdul haseeb\\anaconda3\\lib\\site-packages (from nbclassic~=0.2->jupyterlab) (6.4.5)\n",
      "Requirement already satisfied: argon2-cffi in c:\\users\\abdul haseeb\\anaconda3\\lib\\site-packages (from notebook<7->nbclassic~=0.2->jupyterlab) (20.1.0)\n",
      "Requirement already satisfied: ipykernel in c:\\users\\abdul haseeb\\anaconda3\\lib\\site-packages (from notebook<7->nbclassic~=0.2->jupyterlab) (6.4.1)\n",
      "Requirement already satisfied: pywinpty>=0.5 in c:\\users\\abdul haseeb\\anaconda3\\lib\\site-packages (from terminado>=0.8.3->jupyter-server~=1.4->jupyterlab) (0.5.7)\n",
      "Requirement already satisfied: cffi>=1.0.0 in c:\\users\\abdul haseeb\\anaconda3\\lib\\site-packages (from argon2-cffi->notebook<7->nbclassic~=0.2->jupyterlab) (1.14.6)\n",
      "Requirement already satisfied: pycparser in c:\\users\\abdul haseeb\\anaconda3\\lib\\site-packages (from cffi>=1.0.0->argon2-cffi->notebook<7->nbclassic~=0.2->jupyterlab) (2.20)\n",
      "Requirement already satisfied: pytz>=2015.7 in c:\\users\\abdul haseeb\\anaconda3\\lib\\site-packages (from babel->jupyterlab-server~=2.3->jupyterlab) (2021.3)\n",
      "Requirement already satisfied: debugpy<2.0,>=1.0.0 in c:\\users\\abdul haseeb\\anaconda3\\lib\\site-packages (from ipykernel->notebook<7->nbclassic~=0.2->jupyterlab) (1.4.1)\n",
      "Requirement already satisfied: matplotlib-inline<0.2.0,>=0.1.0 in c:\\users\\abdul haseeb\\anaconda3\\lib\\site-packages (from ipykernel->notebook<7->nbclassic~=0.2->jupyterlab) (0.1.2)\n",
      "Requirement already satisfied: decorator in c:\\users\\abdul haseeb\\anaconda3\\lib\\site-packages (from ipython->jupyterlab) (5.1.0)\n",
      "Requirement already satisfied: prompt-toolkit!=3.0.0,!=3.0.1,<3.1.0,>=2.0.0 in c:\\users\\abdul haseeb\\anaconda3\\lib\\site-packages (from ipython->jupyterlab) (3.0.20)\n",
      "Requirement already satisfied: colorama in c:\\users\\abdul haseeb\\anaconda3\\lib\\site-packages (from ipython->jupyterlab) (0.4.4)\n",
      "Requirement already satisfied: jedi>=0.16 in c:\\users\\abdul haseeb\\anaconda3\\lib\\site-packages (from ipython->jupyterlab) (0.18.0)\n",
      "Requirement already satisfied: pickleshare in c:\\users\\abdul haseeb\\anaconda3\\lib\\site-packages (from ipython->jupyterlab) (0.7.5)\n",
      "Requirement already satisfied: pygments in c:\\users\\abdul haseeb\\anaconda3\\lib\\site-packages (from ipython->jupyterlab) (2.10.0)\n",
      "Requirement already satisfied: backcall in c:\\users\\abdul haseeb\\anaconda3\\lib\\site-packages (from ipython->jupyterlab) (0.2.0)\n",
      "Requirement already satisfied: parso<0.9.0,>=0.8.0 in c:\\users\\abdul haseeb\\anaconda3\\lib\\site-packages (from jedi>=0.16->ipython->jupyterlab) (0.8.2)\n",
      "Requirement already satisfied: wcwidth in c:\\users\\abdul haseeb\\anaconda3\\lib\\site-packages (from prompt-toolkit!=3.0.0,!=3.0.1,<3.1.0,>=2.0.0->ipython->jupyterlab) (0.2.5)\n",
      "Requirement already satisfied: pandocfilters>=1.4.1 in c:\\users\\abdul haseeb\\anaconda3\\lib\\site-packages (from nbconvert->jupyter-server~=1.4->jupyterlab) (1.4.3)\n",
      "Requirement already satisfied: testpath in c:\\users\\abdul haseeb\\anaconda3\\lib\\site-packages (from nbconvert->jupyter-server~=1.4->jupyterlab) (0.5.0)\n",
      "Requirement already satisfied: mistune<2,>=0.8.1 in c:\\users\\abdul haseeb\\anaconda3\\lib\\site-packages (from nbconvert->jupyter-server~=1.4->jupyterlab) (0.8.4)\n",
      "Requirement already satisfied: defusedxml in c:\\users\\abdul haseeb\\anaconda3\\lib\\site-packages (from nbconvert->jupyter-server~=1.4->jupyterlab) (0.7.1)\n",
      "Requirement already satisfied: bleach in c:\\users\\abdul haseeb\\anaconda3\\lib\\site-packages (from nbconvert->jupyter-server~=1.4->jupyterlab) (4.0.0)\n",
      "Requirement already satisfied: nbclient<0.6.0,>=0.5.0 in c:\\users\\abdul haseeb\\anaconda3\\lib\\site-packages (from nbconvert->jupyter-server~=1.4->jupyterlab) (0.5.3)\n",
      "Requirement already satisfied: jupyterlab-pygments in c:\\users\\abdul haseeb\\anaconda3\\lib\\site-packages (from nbconvert->jupyter-server~=1.4->jupyterlab) (0.1.2)\n",
      "Requirement already satisfied: nest-asyncio in c:\\users\\abdul haseeb\\anaconda3\\lib\\site-packages (from nbclient<0.6.0,>=0.5.0->nbconvert->jupyter-server~=1.4->jupyterlab) (1.5.1)\n",
      "Requirement already satisfied: async-generator in c:\\users\\abdul haseeb\\anaconda3\\lib\\site-packages (from nbclient<0.6.0,>=0.5.0->nbconvert->jupyter-server~=1.4->jupyterlab) (1.10)\n",
      "Requirement already satisfied: webencodings in c:\\users\\abdul haseeb\\anaconda3\\lib\\site-packages (from bleach->nbconvert->jupyter-server~=1.4->jupyterlab) (0.5.1)\n",
      "Requirement already satisfied: pyparsing>=2.0.2 in c:\\users\\abdul haseeb\\anaconda3\\lib\\site-packages (from packaging->jupyterlab) (3.0.4)\n",
      "Requirement already satisfied: urllib3<1.27,>=1.21.1 in c:\\users\\abdul haseeb\\anaconda3\\lib\\site-packages (from requests->jupyterlab-server~=2.3->jupyterlab) (1.26.7)\n",
      "Requirement already satisfied: charset-normalizer~=2.0.0 in c:\\users\\abdul haseeb\\anaconda3\\lib\\site-packages (from requests->jupyterlab-server~=2.3->jupyterlab) (2.0.4)\n",
      "Requirement already satisfied: certifi>=2017.4.17 in c:\\users\\abdul haseeb\\anaconda3\\lib\\site-packages (from requests->jupyterlab-server~=2.3->jupyterlab) (2021.10.8)\n",
      "\n"
     ]
    }
   ],
   "source": [
    "pip install jupyterlab"
   ]
  },
  {
   "cell_type": "code",
   "execution_count": null,
   "id": "d1137927",
   "metadata": {},
   "outputs": [],
   "source": []
  },
  {
   "cell_type": "code",
   "execution_count": null,
   "id": "3135a978",
   "metadata": {},
   "outputs": [],
   "source": []
  }
 ],
 "metadata": {
  "kernelspec": {
   "display_name": "Python 3 (ipykernel)",
   "language": "python",
   "name": "python3"
  },
  "language_info": {
   "codemirror_mode": {
    "name": "ipython",
    "version": 3
   },
   "file_extension": ".py",
   "mimetype": "text/x-python",
   "name": "python",
   "nbconvert_exporter": "python",
   "pygments_lexer": "ipython3",
   "version": "3.9.7"
  }
 },
 "nbformat": 4,
 "nbformat_minor": 5
}
