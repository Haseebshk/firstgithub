{
 "cells": [
  {
   "cell_type": "markdown",
   "id": "e6a00312",
   "metadata": {},
   "source": [
    "# Datasets\n",
    "## Tuple"
   ]
  },
  {
   "cell_type": "code",
   "execution_count": 1,
   "id": "d06e9710",
   "metadata": {},
   "outputs": [
    {
     "data": {
      "text/plain": [
       "(1, 1.2, 'taxi', False)"
      ]
     },
     "execution_count": 1,
     "metadata": {},
     "output_type": "execute_result"
    }
   ],
   "source": [
    "a=(1, 1.2, \"taxi\", False)\n",
    "a"
   ]
  },
  {
   "cell_type": "code",
   "execution_count": 2,
   "id": "6313d874",
   "metadata": {},
   "outputs": [
    {
     "data": {
      "text/plain": [
       "tuple"
      ]
     },
     "execution_count": 2,
     "metadata": {},
     "output_type": "execute_result"
    }
   ],
   "source": [
    "type(a)"
   ]
  },
  {
   "cell_type": "markdown",
   "id": "fea16b45",
   "metadata": {},
   "source": [
    "### Count"
   ]
  },
  {
   "cell_type": "code",
   "execution_count": 3,
   "id": "f9a5762c",
   "metadata": {},
   "outputs": [
    {
     "data": {
      "text/plain": [
       "1"
      ]
     },
     "execution_count": 3,
     "metadata": {},
     "output_type": "execute_result"
    }
   ],
   "source": [
    "a.count(\"taxi\")"
   ]
  },
  {
   "cell_type": "code",
   "execution_count": 4,
   "id": "ca762f49",
   "metadata": {},
   "outputs": [
    {
     "data": {
      "text/plain": [
       "1"
      ]
     },
     "execution_count": 4,
     "metadata": {},
     "output_type": "execute_result"
    }
   ],
   "source": [
    "a.count(True)#why true is counted as 1 although true is not described?"
   ]
  },
  {
   "cell_type": "code",
   "execution_count": 5,
   "id": "0c3eb79b",
   "metadata": {},
   "outputs": [
    {
     "data": {
      "text/plain": [
       "1"
      ]
     },
     "execution_count": 5,
     "metadata": {},
     "output_type": "execute_result"
    }
   ],
   "source": [
    "a.count(1.2)"
   ]
  },
  {
   "cell_type": "code",
   "execution_count": 6,
   "id": "3bf7c80e",
   "metadata": {},
   "outputs": [
    {
     "data": {
      "text/plain": [
       "1"
      ]
     },
     "execution_count": 6,
     "metadata": {},
     "output_type": "execute_result"
    }
   ],
   "source": [
    "a.count(True) #why true is counted as 1 although true is not described?"
   ]
  },
  {
   "cell_type": "code",
   "execution_count": 7,
   "id": "b2671c71",
   "metadata": {},
   "outputs": [
    {
     "data": {
      "text/plain": [
       "1"
      ]
     },
     "execution_count": 7,
     "metadata": {},
     "output_type": "execute_result"
    }
   ],
   "source": [
    "a.count(False)"
   ]
  },
  {
   "cell_type": "code",
   "execution_count": 8,
   "id": "477b94f3",
   "metadata": {},
   "outputs": [
    {
     "data": {
      "text/plain": [
       "1"
      ]
     },
     "execution_count": 8,
     "metadata": {},
     "output_type": "execute_result"
    }
   ],
   "source": [
    "a.count(True)"
   ]
  },
  {
   "cell_type": "code",
   "execution_count": 9,
   "id": "de09b56c",
   "metadata": {},
   "outputs": [],
   "source": [
    "b=(4,4.3,\"Ali\", True)"
   ]
  },
  {
   "cell_type": "code",
   "execution_count": 10,
   "id": "08d7af34",
   "metadata": {},
   "outputs": [
    {
     "data": {
      "text/plain": [
       "(4, 4.3, 'Ali', True)"
      ]
     },
     "execution_count": 10,
     "metadata": {},
     "output_type": "execute_result"
    }
   ],
   "source": [
    "b"
   ]
  },
  {
   "cell_type": "code",
   "execution_count": 11,
   "id": "62b08d20",
   "metadata": {},
   "outputs": [
    {
     "data": {
      "text/plain": [
       "1"
      ]
     },
     "execution_count": 11,
     "metadata": {},
     "output_type": "execute_result"
    }
   ],
   "source": [
    "b.count(True)"
   ]
  },
  {
   "cell_type": "code",
   "execution_count": 12,
   "id": "9f64e6e5",
   "metadata": {},
   "outputs": [
    {
     "data": {
      "text/plain": [
       "0"
      ]
     },
     "execution_count": 12,
     "metadata": {},
     "output_type": "execute_result"
    }
   ],
   "source": [
    "b.count(False)"
   ]
  },
  {
   "cell_type": "markdown",
   "id": "7f5b02a1",
   "metadata": {},
   "source": [
    "### Index"
   ]
  },
  {
   "cell_type": "code",
   "execution_count": 13,
   "id": "4eac9a2d",
   "metadata": {},
   "outputs": [
    {
     "data": {
      "text/plain": [
       "2"
      ]
     },
     "execution_count": 13,
     "metadata": {},
     "output_type": "execute_result"
    }
   ],
   "source": [
    "b.index(\"Ali\")"
   ]
  },
  {
   "cell_type": "code",
   "execution_count": 14,
   "id": "76e3b2f4",
   "metadata": {},
   "outputs": [],
   "source": [
    "c=(1,2.3,\"Hussain\", False) # there is no true in this tuple"
   ]
  },
  {
   "cell_type": "code",
   "execution_count": 15,
   "id": "e2e6c97a",
   "metadata": {},
   "outputs": [
    {
     "data": {
      "text/plain": [
       "(1, 2.3, 'Hussain', False)"
      ]
     },
     "execution_count": 15,
     "metadata": {},
     "output_type": "execute_result"
    }
   ],
   "source": [
    "c"
   ]
  },
  {
   "cell_type": "code",
   "execution_count": 16,
   "id": "5d9dfdd8",
   "metadata": {},
   "outputs": [
    {
     "data": {
      "text/plain": [
       "1"
      ]
     },
     "execution_count": 16,
     "metadata": {},
     "output_type": "execute_result"
    }
   ],
   "source": [
    "c.count(True) # still the answer is 1 rather than 0"
   ]
  },
  {
   "cell_type": "markdown",
   "id": "40b9f153",
   "metadata": {},
   "source": [
    "## List"
   ]
  },
  {
   "cell_type": "code",
   "execution_count": 17,
   "id": "bd23e964",
   "metadata": {},
   "outputs": [
    {
     "data": {
      "text/plain": [
       "[1, 1.2, 'Haseeb', True]"
      ]
     },
     "execution_count": 17,
     "metadata": {},
     "output_type": "execute_result"
    }
   ],
   "source": [
    "lin1=[1, 1.2, \"Haseeb\", True]\n",
    "lin1"
   ]
  },
  {
   "cell_type": "code",
   "execution_count": 18,
   "id": "f2bb2ba6",
   "metadata": {},
   "outputs": [
    {
     "data": {
      "text/plain": [
       "list"
      ]
     },
     "execution_count": 18,
     "metadata": {},
     "output_type": "execute_result"
    }
   ],
   "source": [
    "type(lin1)"
   ]
  },
  {
   "cell_type": "markdown",
   "id": "1c80b6c8",
   "metadata": {},
   "source": [
    "### Append"
   ]
  },
  {
   "cell_type": "code",
   "execution_count": 19,
   "id": "96e240b7",
   "metadata": {},
   "outputs": [
    {
     "data": {
      "text/plain": [
       "[1, 1.2, 'Haseeb', True, False]"
      ]
     },
     "execution_count": 19,
     "metadata": {},
     "output_type": "execute_result"
    }
   ],
   "source": [
    "lin1.append(False) \n",
    "lin1"
   ]
  },
  {
   "cell_type": "code",
   "execution_count": 20,
   "id": "73818a2e",
   "metadata": {},
   "outputs": [
    {
     "data": {
      "text/plain": [
       "[1, 1.2, 'Haseeb', True, False, True]"
      ]
     },
     "execution_count": 20,
     "metadata": {},
     "output_type": "execute_result"
    }
   ],
   "source": [
    "lin1.append(True) #for true it worked perfect let's try again\n",
    "lin1"
   ]
  },
  {
   "cell_type": "code",
   "execution_count": 21,
   "id": "86e0c04e",
   "metadata": {},
   "outputs": [
    {
     "data": {
      "text/plain": [
       "[1, 1.2, 'Haseeb', True, False, True, False]"
      ]
     },
     "execution_count": 21,
     "metadata": {},
     "output_type": "execute_result"
    }
   ],
   "source": [
    "lin1.append(False) \n",
    "lin1"
   ]
  },
  {
   "cell_type": "code",
   "execution_count": 22,
   "id": "487e9e8f",
   "metadata": {},
   "outputs": [
    {
     "data": {
      "text/plain": [
       "[1, 1.2, 'Shaikh', True]"
      ]
     },
     "execution_count": 22,
     "metadata": {},
     "output_type": "execute_result"
    }
   ],
   "source": [
    "lin2=[1,1.2, \"Shaikh\", True]\n",
    "lin2"
   ]
  },
  {
   "cell_type": "code",
   "execution_count": 23,
   "id": "5c73b7d3",
   "metadata": {},
   "outputs": [
    {
     "data": {
      "text/plain": [
       "[3, 3.5, 'Haseeb', True]"
      ]
     },
     "execution_count": 23,
     "metadata": {},
     "output_type": "execute_result"
    }
   ],
   "source": [
    "b=[3,3.5,\"Haseeb\", True]\n",
    "b"
   ]
  },
  {
   "cell_type": "code",
   "execution_count": 24,
   "id": "4a8a6444",
   "metadata": {},
   "outputs": [
    {
     "data": {
      "text/plain": [
       "[3, 3.5, 'Haseeb', True, False]"
      ]
     },
     "execution_count": 24,
     "metadata": {},
     "output_type": "execute_result"
    }
   ],
   "source": [
    "b.append(False) #why false is added twice although I have appended once only?\n",
    "b"
   ]
  },
  {
   "cell_type": "markdown",
   "id": "db9146a2",
   "metadata": {},
   "source": [
    "### Clear"
   ]
  },
  {
   "cell_type": "code",
   "execution_count": 25,
   "id": "09200006",
   "metadata": {},
   "outputs": [
    {
     "data": {
      "text/plain": [
       "[]"
      ]
     },
     "execution_count": 25,
     "metadata": {},
     "output_type": "execute_result"
    }
   ],
   "source": [
    "lin1.clear()\n",
    "lin1"
   ]
  },
  {
   "cell_type": "code",
   "execution_count": 26,
   "id": "54d92c19",
   "metadata": {},
   "outputs": [
    {
     "ename": "TypeError",
     "evalue": "list.clear() takes no arguments (1 given)",
     "output_type": "error",
     "traceback": [
      "\u001b[1;31m---------------------------------------------------------------------------\u001b[0m",
      "\u001b[1;31mTypeError\u001b[0m                                 Traceback (most recent call last)",
      "\u001b[1;32mC:\\Users\\ABDULH~1\\AppData\\Local\\Temp/ipykernel_11844/280165805.py\u001b[0m in \u001b[0;36m<module>\u001b[1;34m\u001b[0m\n\u001b[1;32m----> 1\u001b[1;33m \u001b[0mlin2\u001b[0m\u001b[1;33m.\u001b[0m\u001b[0mclear\u001b[0m\u001b[1;33m(\u001b[0m\u001b[1;34m\"Shaikh\"\u001b[0m\u001b[1;33m)\u001b[0m \u001b[1;31m# it should be noticed that clear is not\u001b[0m\u001b[1;33m\u001b[0m\u001b[1;33m\u001b[0m\u001b[0m\n\u001b[0m\u001b[0;32m      2\u001b[0m \u001b[1;31m#about clear any single variable in the list but the whole list at once\u001b[0m\u001b[1;33m\u001b[0m\u001b[1;33m\u001b[0m\u001b[0m\n\u001b[0;32m      3\u001b[0m \u001b[0mline2\u001b[0m\u001b[1;33m\u001b[0m\u001b[1;33m\u001b[0m\u001b[0m\n",
      "\u001b[1;31mTypeError\u001b[0m: list.clear() takes no arguments (1 given)"
     ]
    }
   ],
   "source": [
    "lin2.clear(\"Shaikh\") # it should be noticed that clear is not \n",
    "#about clear any single variable in the list but the whole list at once\n",
    "line2"
   ]
  },
  {
   "cell_type": "markdown",
   "id": "5e101e53",
   "metadata": {},
   "source": [
    "### Copy"
   ]
  },
  {
   "cell_type": "code",
   "execution_count": 27,
   "id": "55ffdb21",
   "metadata": {},
   "outputs": [
    {
     "data": {
      "text/plain": [
       "[1, 1.2, 'Shaikh', True]"
      ]
     },
     "execution_count": 27,
     "metadata": {},
     "output_type": "execute_result"
    }
   ],
   "source": [
    "lin2.copy()\n",
    "lin2"
   ]
  },
  {
   "cell_type": "code",
   "execution_count": 28,
   "id": "cb4ee14e",
   "metadata": {},
   "outputs": [
    {
     "ename": "TypeError",
     "evalue": "list.copy() takes no arguments (1 given)",
     "output_type": "error",
     "traceback": [
      "\u001b[1;31m---------------------------------------------------------------------------\u001b[0m",
      "\u001b[1;31mTypeError\u001b[0m                                 Traceback (most recent call last)",
      "\u001b[1;32mC:\\Users\\ABDULH~1\\AppData\\Local\\Temp/ipykernel_11844/1325560725.py\u001b[0m in \u001b[0;36m<module>\u001b[1;34m\u001b[0m\n\u001b[1;32m----> 1\u001b[1;33m \u001b[0mlin2\u001b[0m\u001b[1;33m.\u001b[0m\u001b[0mcopy\u001b[0m\u001b[1;33m(\u001b[0m\u001b[1;34m\"Shaikh\"\u001b[0m\u001b[1;33m)\u001b[0m\u001b[1;33m\u001b[0m\u001b[1;33m\u001b[0m\u001b[0m\n\u001b[0m",
      "\u001b[1;31mTypeError\u001b[0m: list.copy() takes no arguments (1 given)"
     ]
    }
   ],
   "source": [
    "lin2.copy(\"Shaikh\")"
   ]
  },
  {
   "cell_type": "code",
   "execution_count": 29,
   "id": "6146025c",
   "metadata": {},
   "outputs": [
    {
     "data": {
      "text/plain": [
       "[1, 1.2, 'Shaikh', True]"
      ]
     },
     "execution_count": 29,
     "metadata": {},
     "output_type": "execute_result"
    }
   ],
   "source": [
    "lin2.copy() # What does copy do exactly? Not sure :(\n",
    "lin2"
   ]
  },
  {
   "cell_type": "code",
   "execution_count": 30,
   "id": "c8c67813",
   "metadata": {},
   "outputs": [
    {
     "data": {
      "text/plain": [
       "[]"
      ]
     },
     "execution_count": 30,
     "metadata": {},
     "output_type": "execute_result"
    }
   ],
   "source": [
    "lin1"
   ]
  },
  {
   "cell_type": "code",
   "execution_count": 31,
   "id": "5285e7f9",
   "metadata": {},
   "outputs": [
    {
     "data": {
      "text/plain": [
       "[]"
      ]
     },
     "execution_count": 31,
     "metadata": {},
     "output_type": "execute_result"
    }
   ],
   "source": [
    "lin1.copy()"
   ]
  },
  {
   "cell_type": "code",
   "execution_count": 32,
   "id": "1d7f919f",
   "metadata": {},
   "outputs": [
    {
     "data": {
      "text/plain": [
       "[1, 3, 'Laptop', True]"
      ]
     },
     "execution_count": 32,
     "metadata": {},
     "output_type": "execute_result"
    }
   ],
   "source": [
    "lin2=[1,3, \"Laptop\", True]\n",
    "lin2"
   ]
  },
  {
   "cell_type": "code",
   "execution_count": 33,
   "id": "1912bda9",
   "metadata": {},
   "outputs": [
    {
     "data": {
      "text/plain": [
       "[1, 3, 'Laptop', True]"
      ]
     },
     "execution_count": 33,
     "metadata": {},
     "output_type": "execute_result"
    }
   ],
   "source": [
    "lin2"
   ]
  },
  {
   "cell_type": "code",
   "execution_count": 34,
   "id": "084f1622",
   "metadata": {},
   "outputs": [
    {
     "data": {
      "text/plain": [
       "[1, 3, 'Laptop', True, 1, 3, 'Laptop', True]"
      ]
     },
     "execution_count": 34,
     "metadata": {},
     "output_type": "execute_result"
    }
   ],
   "source": [
    "lin2+lin2"
   ]
  },
  {
   "cell_type": "markdown",
   "id": "a99285b8",
   "metadata": {},
   "source": [
    "### Count"
   ]
  },
  {
   "cell_type": "code",
   "execution_count": 35,
   "id": "12148848",
   "metadata": {},
   "outputs": [
    {
     "data": {
      "text/plain": [
       "2"
      ]
     },
     "execution_count": 35,
     "metadata": {},
     "output_type": "execute_result"
    }
   ],
   "source": [
    "lin2.count(True) # why 2 through true is once in lin2 List?"
   ]
  },
  {
   "cell_type": "code",
   "execution_count": 36,
   "id": "59cb8af7",
   "metadata": {},
   "outputs": [
    {
     "data": {
      "text/plain": [
       "1"
      ]
     },
     "execution_count": 36,
     "metadata": {},
     "output_type": "execute_result"
    }
   ],
   "source": [
    "lin2.count(\"Laptop\")"
   ]
  },
  {
   "cell_type": "code",
   "execution_count": 37,
   "id": "58a8850a",
   "metadata": {},
   "outputs": [
    {
     "data": {
      "text/plain": [
       "1"
      ]
     },
     "execution_count": 37,
     "metadata": {},
     "output_type": "execute_result"
    }
   ],
   "source": [
    "lis3=[True, False]\n",
    "lis3.count(True)"
   ]
  },
  {
   "cell_type": "code",
   "execution_count": 38,
   "id": "3a68bbce",
   "metadata": {},
   "outputs": [
    {
     "data": {
      "text/plain": [
       "1"
      ]
     },
     "execution_count": 38,
     "metadata": {},
     "output_type": "execute_result"
    }
   ],
   "source": [
    "lis3.count(True)"
   ]
  },
  {
   "cell_type": "markdown",
   "id": "c6950847",
   "metadata": {},
   "source": [
    "### Extend"
   ]
  },
  {
   "cell_type": "code",
   "execution_count": 39,
   "id": "95dc27c4",
   "metadata": {},
   "outputs": [],
   "source": [
    "lin2.extend(lis3)"
   ]
  },
  {
   "cell_type": "code",
   "execution_count": 40,
   "id": "bebc58db",
   "metadata": {},
   "outputs": [
    {
     "data": {
      "text/plain": [
       "[1, 3, 'Laptop', True, True, False]"
      ]
     },
     "execution_count": 40,
     "metadata": {},
     "output_type": "execute_result"
    }
   ],
   "source": [
    "lin2 # I just assumed its function but it really does same it is nearly same as adding two lists"
   ]
  },
  {
   "cell_type": "code",
   "execution_count": 41,
   "id": "e181e60f",
   "metadata": {},
   "outputs": [
    {
     "data": {
      "text/plain": [
       "[1, 3, 'Laptop', True, True, False, True, False]"
      ]
     },
     "execution_count": 41,
     "metadata": {},
     "output_type": "execute_result"
    }
   ],
   "source": [
    "lin2.extend(lis3)\n",
    "lin2\n"
   ]
  },
  {
   "cell_type": "markdown",
   "id": "071ff156",
   "metadata": {},
   "source": [
    "### Index"
   ]
  },
  {
   "cell_type": "code",
   "execution_count": 42,
   "id": "b21e7371",
   "metadata": {},
   "outputs": [
    {
     "data": {
      "text/plain": [
       "5"
      ]
     },
     "execution_count": 42,
     "metadata": {},
     "output_type": "execute_result"
    }
   ],
   "source": [
    "lin2.index(False) #because 0 is also counted so False has 5th index"
   ]
  },
  {
   "cell_type": "code",
   "execution_count": 43,
   "id": "0cba614f",
   "metadata": {},
   "outputs": [
    {
     "data": {
      "text/plain": [
       "[3, 'Laptop', True, True]"
      ]
     },
     "execution_count": 43,
     "metadata": {},
     "output_type": "execute_result"
    }
   ],
   "source": [
    "lin2[1:5]"
   ]
  },
  {
   "cell_type": "code",
   "execution_count": 44,
   "id": "25a85f32",
   "metadata": {},
   "outputs": [
    {
     "data": {
      "text/plain": [
       "[False, True, False]"
      ]
     },
     "execution_count": 44,
     "metadata": {},
     "output_type": "execute_result"
    }
   ],
   "source": [
    "lin2[5:8]"
   ]
  },
  {
   "cell_type": "code",
   "execution_count": 45,
   "id": "5db9993a",
   "metadata": {},
   "outputs": [
    {
     "data": {
      "text/plain": [
       "[1, 3]"
      ]
     },
     "execution_count": 45,
     "metadata": {},
     "output_type": "execute_result"
    }
   ],
   "source": [
    "lin2[-8:-6]"
   ]
  },
  {
   "cell_type": "code",
   "execution_count": 46,
   "id": "d02f8232",
   "metadata": {},
   "outputs": [],
   "source": [
    "lin2.insert(4, \"Raheem\")"
   ]
  },
  {
   "cell_type": "code",
   "execution_count": 47,
   "id": "8ce81f58",
   "metadata": {},
   "outputs": [
    {
     "data": {
      "text/plain": [
       "[1, 3, 'Laptop', True, 'Raheem', True, False, True, False]"
      ]
     },
     "execution_count": 47,
     "metadata": {},
     "output_type": "execute_result"
    }
   ],
   "source": [
    "lin2"
   ]
  },
  {
   "cell_type": "markdown",
   "id": "30d08e21",
   "metadata": {},
   "source": [
    "### Remove"
   ]
  },
  {
   "cell_type": "code",
   "execution_count": 48,
   "id": "0caf394e",
   "metadata": {},
   "outputs": [],
   "source": [
    "lin2.remove(\"Raheem\") # it should be noted remove option removes one by one"
   ]
  },
  {
   "cell_type": "code",
   "execution_count": 49,
   "id": "1ec23f05",
   "metadata": {},
   "outputs": [
    {
     "data": {
      "text/plain": [
       "[1, 3, 'Laptop', True, True, False, True, False]"
      ]
     },
     "execution_count": 49,
     "metadata": {},
     "output_type": "execute_result"
    }
   ],
   "source": [
    "lin2"
   ]
  },
  {
   "cell_type": "code",
   "execution_count": 50,
   "id": "f9947960",
   "metadata": {
    "scrolled": true
   },
   "outputs": [
    {
     "ename": "ValueError",
     "evalue": "list.remove(x): x not in list",
     "output_type": "error",
     "traceback": [
      "\u001b[1;31m---------------------------------------------------------------------------\u001b[0m",
      "\u001b[1;31mValueError\u001b[0m                                Traceback (most recent call last)",
      "\u001b[1;32mC:\\Users\\ABDULH~1\\AppData\\Local\\Temp/ipykernel_11844/193019633.py\u001b[0m in \u001b[0;36m<module>\u001b[1;34m\u001b[0m\n\u001b[1;32m----> 1\u001b[1;33m \u001b[0mlin2\u001b[0m\u001b[1;33m.\u001b[0m\u001b[0mremove\u001b[0m\u001b[1;33m(\u001b[0m\u001b[1;34m\"Raheem\"\u001b[0m\u001b[1;33m)\u001b[0m\u001b[1;33m\u001b[0m\u001b[1;33m\u001b[0m\u001b[0m\n\u001b[0m",
      "\u001b[1;31mValueError\u001b[0m: list.remove(x): x not in list"
     ]
    }
   ],
   "source": [
    "lin2.remove(\"Raheem\")"
   ]
  },
  {
   "cell_type": "code",
   "execution_count": 51,
   "id": "3a955679",
   "metadata": {},
   "outputs": [
    {
     "data": {
      "text/plain": [
       "[1, 3, 'Laptop', True, True, False, True, False]"
      ]
     },
     "execution_count": 51,
     "metadata": {},
     "output_type": "execute_result"
    }
   ],
   "source": [
    "lin2"
   ]
  },
  {
   "cell_type": "markdown",
   "id": "9250263e",
   "metadata": {},
   "source": [
    "### Pop"
   ]
  },
  {
   "cell_type": "code",
   "execution_count": 52,
   "id": "e7f3f69f",
   "metadata": {},
   "outputs": [
    {
     "data": {
      "text/plain": [
       "True"
      ]
     },
     "execution_count": 52,
     "metadata": {},
     "output_type": "execute_result"
    }
   ],
   "source": [
    "lin2.pop(3) # Pop seems remove the element of the particular index"
   ]
  },
  {
   "cell_type": "code",
   "execution_count": 53,
   "id": "938e8901",
   "metadata": {},
   "outputs": [
    {
     "data": {
      "text/plain": [
       "[1, 3, 'Laptop', True, False, True, False]"
      ]
     },
     "execution_count": 53,
     "metadata": {},
     "output_type": "execute_result"
    }
   ],
   "source": [
    "lin2"
   ]
  },
  {
   "cell_type": "code",
   "execution_count": 54,
   "id": "84dea19d",
   "metadata": {},
   "outputs": [
    {
     "data": {
      "text/plain": [
       "False"
      ]
     },
     "execution_count": 54,
     "metadata": {},
     "output_type": "execute_result"
    }
   ],
   "source": [
    "lin2.pop(6)"
   ]
  },
  {
   "cell_type": "code",
   "execution_count": 55,
   "id": "83935ae7",
   "metadata": {},
   "outputs": [
    {
     "ename": "TypeError",
     "evalue": "'list' object is not callable",
     "output_type": "error",
     "traceback": [
      "\u001b[1;31m---------------------------------------------------------------------------\u001b[0m",
      "\u001b[1;31mTypeError\u001b[0m                                 Traceback (most recent call last)",
      "\u001b[1;32mC:\\Users\\ABDULH~1\\AppData\\Local\\Temp/ipykernel_11844/2828234519.py\u001b[0m in \u001b[0;36m<module>\u001b[1;34m\u001b[0m\n\u001b[1;32m----> 1\u001b[1;33m \u001b[0mlin2\u001b[0m\u001b[1;33m(\u001b[0m\u001b[1;34m\"Laptop\"\u001b[0m\u001b[1;33m)\u001b[0m\u001b[1;33m\u001b[0m\u001b[1;33m\u001b[0m\u001b[0m\n\u001b[0m",
      "\u001b[1;31mTypeError\u001b[0m: 'list' object is not callable"
     ]
    }
   ],
   "source": [
    "lin2(\"Laptop\")"
   ]
  },
  {
   "cell_type": "code",
   "execution_count": 56,
   "id": "0331a789",
   "metadata": {},
   "outputs": [
    {
     "data": {
      "text/plain": [
       "[1, 3, 'Laptop', True, False, True]"
      ]
     },
     "execution_count": 56,
     "metadata": {},
     "output_type": "execute_result"
    }
   ],
   "source": [
    "lin2"
   ]
  },
  {
   "cell_type": "code",
   "execution_count": 57,
   "id": "0d8c679d",
   "metadata": {},
   "outputs": [
    {
     "data": {
      "text/plain": [
       "True"
      ]
     },
     "execution_count": 57,
     "metadata": {},
     "output_type": "execute_result"
    }
   ],
   "source": [
    "lin2.pop(3)"
   ]
  },
  {
   "cell_type": "code",
   "execution_count": 58,
   "id": "a899fe2a",
   "metadata": {},
   "outputs": [
    {
     "data": {
      "text/plain": [
       "[1, 3, 'Laptop', False, True]"
      ]
     },
     "execution_count": 58,
     "metadata": {},
     "output_type": "execute_result"
    }
   ],
   "source": [
    "lin2"
   ]
  },
  {
   "cell_type": "code",
   "execution_count": 59,
   "id": "8189fb0f",
   "metadata": {},
   "outputs": [
    {
     "data": {
      "text/plain": [
       "3"
      ]
     },
     "execution_count": 59,
     "metadata": {},
     "output_type": "execute_result"
    }
   ],
   "source": [
    "lin2.pop(1)"
   ]
  },
  {
   "cell_type": "code",
   "execution_count": 60,
   "id": "cf24e490",
   "metadata": {},
   "outputs": [
    {
     "data": {
      "text/plain": [
       "[1, 'Laptop', False, True]"
      ]
     },
     "execution_count": 60,
     "metadata": {},
     "output_type": "execute_result"
    }
   ],
   "source": [
    "lin2"
   ]
  },
  {
   "cell_type": "code",
   "execution_count": 61,
   "id": "0a108fe1",
   "metadata": {},
   "outputs": [
    {
     "data": {
      "text/plain": [
       "1"
      ]
     },
     "execution_count": 61,
     "metadata": {},
     "output_type": "execute_result"
    }
   ],
   "source": [
    "lin2.pop(0)"
   ]
  },
  {
   "cell_type": "code",
   "execution_count": 62,
   "id": "c961b47a",
   "metadata": {},
   "outputs": [
    {
     "data": {
      "text/plain": [
       "['Laptop', False, True]"
      ]
     },
     "execution_count": 62,
     "metadata": {},
     "output_type": "execute_result"
    }
   ],
   "source": [
    "lin2"
   ]
  },
  {
   "cell_type": "code",
   "execution_count": 63,
   "id": "e687914d",
   "metadata": {},
   "outputs": [
    {
     "data": {
      "text/plain": [
       "'Laptop'"
      ]
     },
     "execution_count": 63,
     "metadata": {},
     "output_type": "execute_result"
    }
   ],
   "source": [
    "lin2.pop(0)"
   ]
  },
  {
   "cell_type": "code",
   "execution_count": 64,
   "id": "1328dac4",
   "metadata": {},
   "outputs": [
    {
     "data": {
      "text/plain": [
       "[False, True]"
      ]
     },
     "execution_count": 64,
     "metadata": {},
     "output_type": "execute_result"
    }
   ],
   "source": [
    "lin2"
   ]
  },
  {
   "cell_type": "markdown",
   "id": "27a11acc",
   "metadata": {},
   "source": [
    "### Reverse"
   ]
  },
  {
   "cell_type": "code",
   "execution_count": 65,
   "id": "89306a10",
   "metadata": {},
   "outputs": [],
   "source": [
    "lin4=[\"Hi\",1,1.5,True]"
   ]
  },
  {
   "cell_type": "code",
   "execution_count": 66,
   "id": "0786e53e",
   "metadata": {},
   "outputs": [],
   "source": [
    "lin4.reverse()"
   ]
  },
  {
   "cell_type": "code",
   "execution_count": 67,
   "id": "33a85643",
   "metadata": {},
   "outputs": [
    {
     "data": {
      "text/plain": [
       "[True, 1.5, 1, 'Hi']"
      ]
     },
     "execution_count": 67,
     "metadata": {},
     "output_type": "execute_result"
    }
   ],
   "source": [
    "lin4"
   ]
  },
  {
   "cell_type": "markdown",
   "id": "51a7e269",
   "metadata": {},
   "source": [
    "### Sort"
   ]
  },
  {
   "cell_type": "code",
   "execution_count": 68,
   "id": "1e3d1ec5",
   "metadata": {},
   "outputs": [
    {
     "data": {
      "text/plain": [
       "<function list.sort(*, key=None, reverse=False)>"
      ]
     },
     "execution_count": 68,
     "metadata": {},
     "output_type": "execute_result"
    }
   ],
   "source": [
    "lin4.sort"
   ]
  },
  {
   "cell_type": "code",
   "execution_count": 69,
   "id": "139fa60a",
   "metadata": {},
   "outputs": [
    {
     "data": {
      "text/plain": [
       "[1, 3, 1.5, 0]"
      ]
     },
     "execution_count": 69,
     "metadata": {},
     "output_type": "execute_result"
    }
   ],
   "source": [
    "lin5=[1,3,1.5,0]\n",
    "lin5"
   ]
  },
  {
   "cell_type": "code",
   "execution_count": 70,
   "id": "39d084a2",
   "metadata": {},
   "outputs": [
    {
     "data": {
      "text/plain": [
       "[0, 1, 1.5, 3]"
      ]
     },
     "execution_count": 70,
     "metadata": {},
     "output_type": "execute_result"
    }
   ],
   "source": [
    "lin5.sort()\n",
    "lin5"
   ]
  },
  {
   "cell_type": "markdown",
   "id": "40c211df",
   "metadata": {},
   "source": [
    "### Practise Pop Again"
   ]
  },
  {
   "cell_type": "code",
   "execution_count": 71,
   "id": "54ffd31d",
   "metadata": {},
   "outputs": [
    {
     "data": {
      "text/plain": [
       "[0, 1, 1.5, 3]"
      ]
     },
     "execution_count": 71,
     "metadata": {},
     "output_type": "execute_result"
    }
   ],
   "source": [
    "lin5"
   ]
  },
  {
   "cell_type": "code",
   "execution_count": 72,
   "id": "48d3caba",
   "metadata": {},
   "outputs": [
    {
     "data": {
      "text/plain": [
       "1.5"
      ]
     },
     "execution_count": 72,
     "metadata": {},
     "output_type": "execute_result"
    }
   ],
   "source": [
    "lin5.pop(2) # 2th index is 1.5 so its given below now 1.5 should not be part of lin5"
   ]
  },
  {
   "cell_type": "code",
   "execution_count": 73,
   "id": "eed52b94",
   "metadata": {},
   "outputs": [
    {
     "data": {
      "text/plain": [
       "[0, 1, 3]"
      ]
     },
     "execution_count": 73,
     "metadata": {},
     "output_type": "execute_result"
    }
   ],
   "source": [
    "lin5 # proved "
   ]
  },
  {
   "cell_type": "code",
   "execution_count": 74,
   "id": "4e778194",
   "metadata": {},
   "outputs": [
    {
     "data": {
      "text/plain": [
       "3"
      ]
     },
     "execution_count": 74,
     "metadata": {},
     "output_type": "execute_result"
    }
   ],
   "source": [
    "lin5.pop(2) # now 2th index is 3 so 3 is printed"
   ]
  },
  {
   "cell_type": "code",
   "execution_count": 75,
   "id": "1ef870b1",
   "metadata": {},
   "outputs": [
    {
     "data": {
      "text/plain": [
       "[0, 1]"
      ]
     },
     "execution_count": 75,
     "metadata": {},
     "output_type": "execute_result"
    }
   ],
   "source": [
    "lin5 # 3 is no more part if lin5-proved"
   ]
  },
  {
   "cell_type": "markdown",
   "id": "ee5aee7f",
   "metadata": {},
   "source": [
    "## Sets"
   ]
  },
  {
   "cell_type": "code",
   "execution_count": 76,
   "id": "4f718549",
   "metadata": {},
   "outputs": [],
   "source": [
    "set1={1,1.2,\"Ali\", True}"
   ]
  },
  {
   "cell_type": "code",
   "execution_count": 77,
   "id": "79b5c5cf",
   "metadata": {},
   "outputs": [
    {
     "data": {
      "text/plain": [
       "{1, 1.2, 'Ali'}"
      ]
     },
     "execution_count": 77,
     "metadata": {},
     "output_type": "execute_result"
    }
   ],
   "source": [
    "set1 # so boolean is not allowed"
   ]
  },
  {
   "cell_type": "code",
   "execution_count": 78,
   "id": "941775df",
   "metadata": {},
   "outputs": [
    {
     "data": {
      "text/plain": [
       "<function set.clear>"
      ]
     },
     "execution_count": 78,
     "metadata": {},
     "output_type": "execute_result"
    }
   ],
   "source": [
    "set1.clear"
   ]
  },
  {
   "cell_type": "code",
   "execution_count": 79,
   "id": "7662d785",
   "metadata": {},
   "outputs": [
    {
     "data": {
      "text/plain": [
       "{1, 1.2, 'Ali'}"
      ]
     },
     "execution_count": 79,
     "metadata": {},
     "output_type": "execute_result"
    }
   ],
   "source": [
    "set1 # have a look set is empty now and brackets are changed into tuple one ()"
   ]
  },
  {
   "cell_type": "code",
   "execution_count": 80,
   "id": "a2a4dd8a",
   "metadata": {},
   "outputs": [],
   "source": [
    "set1={1,1.2,\"Ali\", True}"
   ]
  },
  {
   "cell_type": "code",
   "execution_count": 81,
   "id": "093adfdc",
   "metadata": {},
   "outputs": [
    {
     "data": {
      "text/plain": [
       "{1, 1.2, 'Ali'}"
      ]
     },
     "execution_count": 81,
     "metadata": {},
     "output_type": "execute_result"
    }
   ],
   "source": [
    "set1"
   ]
  },
  {
   "cell_type": "markdown",
   "id": "f82db2d0",
   "metadata": {},
   "source": [
    "### Clear"
   ]
  },
  {
   "cell_type": "code",
   "execution_count": 82,
   "id": "ffd1016e",
   "metadata": {},
   "outputs": [],
   "source": [
    "set1.clear()"
   ]
  },
  {
   "cell_type": "code",
   "execution_count": 83,
   "id": "0d9195e5",
   "metadata": {},
   "outputs": [
    {
     "data": {
      "text/plain": [
       "set()"
      ]
     },
     "execution_count": 83,
     "metadata": {},
     "output_type": "execute_result"
    }
   ],
   "source": [
    "set1 # it was expected as this {} but resulted in set()"
   ]
  },
  {
   "cell_type": "code",
   "execution_count": 84,
   "id": "82953ddc",
   "metadata": {},
   "outputs": [],
   "source": [
    "set2={1,1.2,\"Ali\", True}"
   ]
  },
  {
   "cell_type": "code",
   "execution_count": 85,
   "id": "19240be8",
   "metadata": {},
   "outputs": [
    {
     "data": {
      "text/plain": [
       "{1, 1.2, 'Ali'}"
      ]
     },
     "execution_count": 85,
     "metadata": {},
     "output_type": "execute_result"
    }
   ],
   "source": [
    "set2"
   ]
  },
  {
   "cell_type": "markdown",
   "id": "0e3e8656",
   "metadata": {},
   "source": [
    "### Copy"
   ]
  },
  {
   "cell_type": "code",
   "execution_count": 86,
   "id": "323b43a1",
   "metadata": {},
   "outputs": [
    {
     "ename": "TypeError",
     "evalue": "set.copy() takes no arguments (1 given)",
     "output_type": "error",
     "traceback": [
      "\u001b[1;31m---------------------------------------------------------------------------\u001b[0m",
      "\u001b[1;31mTypeError\u001b[0m                                 Traceback (most recent call last)",
      "\u001b[1;32mC:\\Users\\ABDULH~1\\AppData\\Local\\Temp/ipykernel_11844/1387351528.py\u001b[0m in \u001b[0;36m<module>\u001b[1;34m\u001b[0m\n\u001b[1;32m----> 1\u001b[1;33m \u001b[0mset1\u001b[0m\u001b[1;33m.\u001b[0m\u001b[0mcopy\u001b[0m\u001b[1;33m(\u001b[0m\u001b[0mset2\u001b[0m\u001b[1;33m)\u001b[0m\u001b[1;33m\u001b[0m\u001b[1;33m\u001b[0m\u001b[0m\n\u001b[0m",
      "\u001b[1;31mTypeError\u001b[0m: set.copy() takes no arguments (1 given)"
     ]
    }
   ],
   "source": [
    "set1.copy(set2)"
   ]
  },
  {
   "cell_type": "code",
   "execution_count": 87,
   "id": "dabd25ed",
   "metadata": {},
   "outputs": [
    {
     "data": {
      "text/plain": [
       "set()"
      ]
     },
     "execution_count": 87,
     "metadata": {},
     "output_type": "execute_result"
    }
   ],
   "source": [
    "set1.copy()"
   ]
  },
  {
   "cell_type": "code",
   "execution_count": 88,
   "id": "11e5c84b",
   "metadata": {},
   "outputs": [
    {
     "data": {
      "text/plain": [
       "{1, 1.2, 'Ali'}"
      ]
     },
     "execution_count": 88,
     "metadata": {},
     "output_type": "execute_result"
    }
   ],
   "source": [
    "set2.copy() # Still don't know what does copy do"
   ]
  },
  {
   "cell_type": "code",
   "execution_count": 89,
   "id": "6ec95520",
   "metadata": {},
   "outputs": [],
   "source": [
    "set3={2,3,5}"
   ]
  },
  {
   "cell_type": "code",
   "execution_count": 90,
   "id": "58a9a869",
   "metadata": {},
   "outputs": [],
   "source": [
    "set4={10,11,12}"
   ]
  },
  {
   "cell_type": "markdown",
   "id": "9210f3a0",
   "metadata": {},
   "source": [
    "### Difference"
   ]
  },
  {
   "cell_type": "code",
   "execution_count": 91,
   "id": "36d470ce",
   "metadata": {},
   "outputs": [
    {
     "data": {
      "text/plain": [
       "{2, 3, 5}"
      ]
     },
     "execution_count": 91,
     "metadata": {},
     "output_type": "execute_result"
    }
   ],
   "source": [
    "set3.difference(set4)"
   ]
  },
  {
   "cell_type": "code",
   "execution_count": 92,
   "id": "e9cefec7",
   "metadata": {},
   "outputs": [
    {
     "data": {
      "text/plain": [
       "{10, 11, 12}"
      ]
     },
     "execution_count": 92,
     "metadata": {},
     "output_type": "execute_result"
    }
   ],
   "source": [
    "set4"
   ]
  },
  {
   "cell_type": "code",
   "execution_count": 93,
   "id": "7fed22d5",
   "metadata": {},
   "outputs": [
    {
     "data": {
      "text/plain": [
       "set()"
      ]
     },
     "execution_count": 93,
     "metadata": {},
     "output_type": "execute_result"
    }
   ],
   "source": [
    "set4.difference(set4-set3)"
   ]
  },
  {
   "cell_type": "code",
   "execution_count": 94,
   "id": "8b3f0b1e",
   "metadata": {},
   "outputs": [
    {
     "data": {
      "text/plain": [
       "{10, 11, 12}"
      ]
     },
     "execution_count": 94,
     "metadata": {},
     "output_type": "execute_result"
    }
   ],
   "source": [
    "set4"
   ]
  },
  {
   "cell_type": "code",
   "execution_count": 95,
   "id": "716044fb",
   "metadata": {},
   "outputs": [],
   "source": [
    "set5={1,2,3,4,4} "
   ]
  },
  {
   "cell_type": "code",
   "execution_count": 96,
   "id": "eab2d493",
   "metadata": {},
   "outputs": [
    {
     "data": {
      "text/plain": [
       "{1, 2, 3, 4}"
      ]
     },
     "execution_count": 96,
     "metadata": {},
     "output_type": "execute_result"
    }
   ],
   "source": [
    "set5 # no repetition bro"
   ]
  },
  {
   "cell_type": "code",
   "execution_count": 97,
   "id": "b8a3fdea",
   "metadata": {},
   "outputs": [],
   "source": [
    "# lets see what difference do now"
   ]
  },
  {
   "cell_type": "code",
   "execution_count": 98,
   "id": "fcbb2f99",
   "metadata": {},
   "outputs": [
    {
     "ename": "SyntaxError",
     "evalue": "invalid syntax (Temp/ipykernel_11844/1528959839.py, line 1)",
     "output_type": "error",
     "traceback": [
      "\u001b[1;36m  File \u001b[1;32m\"C:\\Users\\ABDULH~1\\AppData\\Local\\Temp/ipykernel_11844/1528959839.py\"\u001b[1;36m, line \u001b[1;32m1\u001b[0m\n\u001b[1;33m    difference(set 5-set4)\u001b[0m\n\u001b[1;37m                   ^\u001b[0m\n\u001b[1;31mSyntaxError\u001b[0m\u001b[1;31m:\u001b[0m invalid syntax\n"
     ]
    }
   ],
   "source": [
    "difference(set 5-set4)"
   ]
  },
  {
   "cell_type": "code",
   "execution_count": 99,
   "id": "4e6f2cb3",
   "metadata": {},
   "outputs": [
    {
     "ename": "SyntaxError",
     "evalue": "invalid syntax (Temp/ipykernel_11844/2159072251.py, line 1)",
     "output_type": "error",
     "traceback": [
      "\u001b[1;36m  File \u001b[1;32m\"C:\\Users\\ABDULH~1\\AppData\\Local\\Temp/ipykernel_11844/2159072251.py\"\u001b[1;36m, line \u001b[1;32m1\u001b[0m\n\u001b[1;33m    .difference(set5-set4)\u001b[0m\n\u001b[1;37m    ^\u001b[0m\n\u001b[1;31mSyntaxError\u001b[0m\u001b[1;31m:\u001b[0m invalid syntax\n"
     ]
    }
   ],
   "source": [
    ".difference(set5-set4)"
   ]
  },
  {
   "cell_type": "code",
   "execution_count": 100,
   "id": "b758e0bc",
   "metadata": {},
   "outputs": [
    {
     "data": {
      "text/plain": [
       "{10, 11, 12}"
      ]
     },
     "execution_count": 100,
     "metadata": {},
     "output_type": "execute_result"
    }
   ],
   "source": [
    "set4-set5"
   ]
  },
  {
   "cell_type": "code",
   "execution_count": 101,
   "id": "1e028292",
   "metadata": {},
   "outputs": [],
   "source": [
    "# lets do it with concept of sets in mathematics"
   ]
  },
  {
   "cell_type": "code",
   "execution_count": 102,
   "id": "ae521fde",
   "metadata": {},
   "outputs": [],
   "source": [
    "setA={1,2,3,4,5,6}"
   ]
  },
  {
   "cell_type": "code",
   "execution_count": 103,
   "id": "47113af8",
   "metadata": {},
   "outputs": [],
   "source": [
    "setB={4,5,6,7,8,9}"
   ]
  },
  {
   "cell_type": "code",
   "execution_count": 104,
   "id": "31aee139",
   "metadata": {},
   "outputs": [
    {
     "data": {
      "text/plain": [
       "{1, 2, 3}"
      ]
     },
     "execution_count": 104,
     "metadata": {},
     "output_type": "execute_result"
    }
   ],
   "source": [
    "setA.difference(setB)"
   ]
  },
  {
   "cell_type": "code",
   "execution_count": 105,
   "id": "dc0470a0",
   "metadata": {},
   "outputs": [
    {
     "data": {
      "text/plain": [
       "{7, 8, 9}"
      ]
     },
     "execution_count": 105,
     "metadata": {},
     "output_type": "execute_result"
    }
   ],
   "source": [
    "setB.difference(setA)"
   ]
  },
  {
   "cell_type": "code",
   "execution_count": 106,
   "id": "a9cc4465",
   "metadata": {},
   "outputs": [],
   "source": [
    "# X.difference(Y) = X-Y and Y.difference(X)= Y-X where X and Y are sets"
   ]
  },
  {
   "cell_type": "code",
   "execution_count": 107,
   "id": "9d23d6de",
   "metadata": {},
   "outputs": [
    {
     "data": {
      "text/plain": [
       "{1, 2, 3, 4, 5, 6}"
      ]
     },
     "execution_count": 107,
     "metadata": {},
     "output_type": "execute_result"
    }
   ],
   "source": [
    "setA # here it should be noted after difference the actual set remains still same "
   ]
  },
  {
   "cell_type": "markdown",
   "id": "70ebfe35",
   "metadata": {},
   "source": [
    "### Difference Update"
   ]
  },
  {
   "cell_type": "code",
   "execution_count": 108,
   "id": "e87462f6",
   "metadata": {},
   "outputs": [],
   "source": [
    "setA.difference_update(setB)"
   ]
  },
  {
   "cell_type": "code",
   "execution_count": 109,
   "id": "daa30457",
   "metadata": {},
   "outputs": [
    {
     "data": {
      "text/plain": [
       "{1, 2, 3}"
      ]
     },
     "execution_count": 109,
     "metadata": {},
     "output_type": "execute_result"
    }
   ],
   "source": [
    "setA # differece-update firstly carries out difference then update the actual case to print so now setA "
   ]
  },
  {
   "cell_type": "markdown",
   "id": "a3a8a087",
   "metadata": {},
   "source": [
    "### Intersection"
   ]
  },
  {
   "cell_type": "code",
   "execution_count": 110,
   "id": "7bebd4cf",
   "metadata": {},
   "outputs": [
    {
     "data": {
      "text/plain": [
       "{1, 2, 3}"
      ]
     },
     "execution_count": 110,
     "metadata": {},
     "output_type": "execute_result"
    }
   ],
   "source": [
    "setA.intersection(setA)"
   ]
  },
  {
   "cell_type": "code",
   "execution_count": 111,
   "id": "70e227cc",
   "metadata": {},
   "outputs": [],
   "source": [
    "setC={1,2,3,4}"
   ]
  },
  {
   "cell_type": "code",
   "execution_count": 112,
   "id": "93d2db6f",
   "metadata": {},
   "outputs": [
    {
     "data": {
      "text/plain": [
       "{1, 2, 3}"
      ]
     },
     "execution_count": 112,
     "metadata": {},
     "output_type": "execute_result"
    }
   ],
   "source": [
    "setA.intersection(setC)"
   ]
  },
  {
   "cell_type": "markdown",
   "id": "ebd20774",
   "metadata": {},
   "source": [
    "### Intersection Update"
   ]
  },
  {
   "cell_type": "code",
   "execution_count": 113,
   "id": "1ab6ef1c",
   "metadata": {},
   "outputs": [],
   "source": [
    "setC.intersection_update(setA)"
   ]
  },
  {
   "cell_type": "code",
   "execution_count": 114,
   "id": "cc61867d",
   "metadata": {},
   "outputs": [
    {
     "data": {
      "text/plain": [
       "{1, 2, 3}"
      ]
     },
     "execution_count": 114,
     "metadata": {},
     "output_type": "execute_result"
    }
   ],
   "source": [
    "setC # after intersection it is updated"
   ]
  },
  {
   "cell_type": "markdown",
   "id": "daecebe5",
   "metadata": {},
   "source": [
    "### Disjoint Boolean"
   ]
  },
  {
   "cell_type": "code",
   "execution_count": 115,
   "id": "b78fc556",
   "metadata": {},
   "outputs": [
    {
     "data": {
      "text/plain": [
       "False"
      ]
     },
     "execution_count": 115,
     "metadata": {},
     "output_type": "execute_result"
    }
   ],
   "source": [
    "setC.isdisjoint(setA) #elements are same"
   ]
  },
  {
   "cell_type": "code",
   "execution_count": 116,
   "id": "5d5ee02f",
   "metadata": {},
   "outputs": [
    {
     "data": {
      "text/plain": [
       "{1, 2, 3}"
      ]
     },
     "execution_count": 116,
     "metadata": {},
     "output_type": "execute_result"
    }
   ],
   "source": [
    "setC"
   ]
  },
  {
   "cell_type": "code",
   "execution_count": 117,
   "id": "e8cdaba5",
   "metadata": {},
   "outputs": [],
   "source": [
    "setD={4,5,6}"
   ]
  },
  {
   "cell_type": "code",
   "execution_count": 118,
   "id": "8250bd75",
   "metadata": {},
   "outputs": [
    {
     "data": {
      "text/plain": [
       "True"
      ]
     },
     "execution_count": 118,
     "metadata": {},
     "output_type": "execute_result"
    }
   ],
   "source": [
    "setD.isdisjoint(setC) # disjoint means no elements are same"
   ]
  },
  {
   "cell_type": "code",
   "execution_count": 119,
   "id": "3042f1fc",
   "metadata": {},
   "outputs": [],
   "source": [
    "setE={4,5}"
   ]
  },
  {
   "cell_type": "code",
   "execution_count": 120,
   "id": "1f8a84b7",
   "metadata": {},
   "outputs": [
    {
     "data": {
      "text/plain": [
       "True"
      ]
     },
     "execution_count": 120,
     "metadata": {},
     "output_type": "execute_result"
    }
   ],
   "source": [
    "setE.issubset(setD) # when a set has same elements but less than or equal to other set than it is the subset of other elenments. Its Maths baby ;)"
   ]
  },
  {
   "cell_type": "markdown",
   "id": "0819edbb",
   "metadata": {},
   "source": [
    "### Subset Boolean"
   ]
  },
  {
   "cell_type": "code",
   "execution_count": 121,
   "id": "1f25209c",
   "metadata": {},
   "outputs": [
    {
     "data": {
      "text/plain": [
       "True"
      ]
     },
     "execution_count": 121,
     "metadata": {},
     "output_type": "execute_result"
    }
   ],
   "source": [
    "setF={4,5,6}\n",
    "setF.issubset(setD)"
   ]
  },
  {
   "cell_type": "code",
   "execution_count": 122,
   "id": "8afb3bba",
   "metadata": {},
   "outputs": [],
   "source": [
    "setG={4,5,6,7}"
   ]
  },
  {
   "cell_type": "markdown",
   "id": "580af587",
   "metadata": {},
   "source": [
    "### Superset Boolean"
   ]
  },
  {
   "cell_type": "code",
   "execution_count": 123,
   "id": "5602d16f",
   "metadata": {},
   "outputs": [
    {
     "data": {
      "text/plain": [
       "True"
      ]
     },
     "execution_count": 123,
     "metadata": {},
     "output_type": "execute_result"
    }
   ],
   "source": [
    "setG.issuperset(setF) #setG has same elements of setF and more than it or setF is subset of superset setG."
   ]
  },
  {
   "cell_type": "markdown",
   "id": "d259f927",
   "metadata": {},
   "source": [
    "### Remove"
   ]
  },
  {
   "cell_type": "code",
   "execution_count": 124,
   "id": "dadd6986",
   "metadata": {},
   "outputs": [],
   "source": [
    "setG.remove(6)"
   ]
  },
  {
   "cell_type": "code",
   "execution_count": 125,
   "id": "dff7d235",
   "metadata": {},
   "outputs": [
    {
     "data": {
      "text/plain": [
       "{4, 5, 7}"
      ]
     },
     "execution_count": 125,
     "metadata": {},
     "output_type": "execute_result"
    }
   ],
   "source": [
    "setG # 6 is removed"
   ]
  },
  {
   "cell_type": "code",
   "execution_count": 126,
   "id": "bcc67292",
   "metadata": {},
   "outputs": [],
   "source": [
    "# pop is already tested"
   ]
  },
  {
   "cell_type": "markdown",
   "id": "ccbecbb2",
   "metadata": {},
   "source": [
    "### Symmetric Difference"
   ]
  },
  {
   "cell_type": "code",
   "execution_count": 127,
   "id": "bec25ec8",
   "metadata": {},
   "outputs": [
    {
     "data": {
      "text/plain": [
       "{6, 7}"
      ]
     },
     "execution_count": 127,
     "metadata": {},
     "output_type": "execute_result"
    }
   ],
   "source": [
    "setG.symmetric_difference(setF) # slightly different than difference just removes same elements and shows both sets' remaining."
   ]
  },
  {
   "cell_type": "code",
   "execution_count": 128,
   "id": "b3408634",
   "metadata": {},
   "outputs": [
    {
     "data": {
      "text/plain": [
       "{6, 7}"
      ]
     },
     "execution_count": 128,
     "metadata": {},
     "output_type": "execute_result"
    }
   ],
   "source": [
    "setG.symmetric_difference_update(setF)\n",
    "setG # setG is updated also, cool!!"
   ]
  },
  {
   "cell_type": "markdown",
   "id": "1edbb0c6",
   "metadata": {},
   "source": [
    "### Union"
   ]
  },
  {
   "cell_type": "code",
   "execution_count": 129,
   "id": "16bc4140",
   "metadata": {},
   "outputs": [
    {
     "data": {
      "text/plain": [
       "{1, 2, 6, 7}"
      ]
     },
     "execution_count": 129,
     "metadata": {},
     "output_type": "execute_result"
    }
   ],
   "source": [
    "setH={1,2}\n",
    "setH.union(setG) # simply union "
   ]
  },
  {
   "cell_type": "markdown",
   "id": "5b937a2c",
   "metadata": {},
   "source": [
    "### Update"
   ]
  },
  {
   "cell_type": "code",
   "execution_count": 130,
   "id": "d662d34c",
   "metadata": {},
   "outputs": [],
   "source": [
    "setH.update(setA)"
   ]
  },
  {
   "cell_type": "code",
   "execution_count": 131,
   "id": "cc2bba27",
   "metadata": {},
   "outputs": [
    {
     "data": {
      "text/plain": [
       "{1, 2, 3}"
      ]
     },
     "execution_count": 131,
     "metadata": {},
     "output_type": "execute_result"
    }
   ],
   "source": [
    "setH # setA is {1,2,3}"
   ]
  },
  {
   "cell_type": "code",
   "execution_count": 132,
   "id": "aa066110",
   "metadata": {},
   "outputs": [],
   "source": [
    "setG.update(setA)"
   ]
  },
  {
   "cell_type": "code",
   "execution_count": 133,
   "id": "430c3aba",
   "metadata": {},
   "outputs": [
    {
     "data": {
      "text/plain": [
       "{1, 2, 3, 6, 7}"
      ]
     },
     "execution_count": 133,
     "metadata": {},
     "output_type": "execute_result"
    }
   ],
   "source": [
    "setG # it works similar to union, the difference is union does not change the actual \n",
    "#set but update do union and change the actual set into the union result"
   ]
  },
  {
   "cell_type": "code",
   "execution_count": 134,
   "id": "2aed793f",
   "metadata": {},
   "outputs": [
    {
     "data": {
      "text/plain": [
       "{1, 2, 3, 6, 7}"
      ]
     },
     "execution_count": 134,
     "metadata": {},
     "output_type": "execute_result"
    }
   ],
   "source": [
    "setG"
   ]
  },
  {
   "cell_type": "markdown",
   "id": "b3e1e8fd",
   "metadata": {},
   "source": [
    "## Dictionaries"
   ]
  },
  {
   "cell_type": "code",
   "execution_count": 135,
   "id": "27b2b94e",
   "metadata": {},
   "outputs": [
    {
     "data": {
      "text/plain": [
       "{'Gamesa Turbines': 5, 'LG Solar Panels': 200, 'Hydrogren Batteries': 10}"
      ]
     },
     "execution_count": 135,
     "metadata": {},
     "output_type": "execute_result"
    }
   ],
   "source": [
    "Dic1={\"Gamesa Turbines\":20,\"LG Solar Panels\":200, \"Hydrogren Batteries\":10, \"Gamesa Turbines\":5}\n",
    "Dic1 # it should be noted in the final item you can't get two items with \n",
    "#same keys in aswer so the last one will appear here one with value 5"
   ]
  },
  {
   "cell_type": "code",
   "execution_count": 136,
   "id": "423bc096",
   "metadata": {},
   "outputs": [
    {
     "data": {
      "text/plain": [
       "{'Gamesa Turbines': 5, 'LG Solar Panels': 200, 'Hydrogren Batteries': 10}"
      ]
     },
     "execution_count": 136,
     "metadata": {},
     "output_type": "execute_result"
    }
   ],
   "source": [
    "Dic1"
   ]
  },
  {
   "cell_type": "markdown",
   "id": "70d5c51e",
   "metadata": {},
   "source": [
    "### Keys"
   ]
  },
  {
   "cell_type": "code",
   "execution_count": 137,
   "id": "5cd9aea7",
   "metadata": {},
   "outputs": [
    {
     "data": {
      "text/plain": [
       "dict_keys(['Gamesa Turbines', 'LG Solar Panels', 'Hydrogren Batteries'])"
      ]
     },
     "execution_count": 137,
     "metadata": {},
     "output_type": "execute_result"
    }
   ],
   "source": [
    "Dic1.keys()"
   ]
  },
  {
   "cell_type": "markdown",
   "id": "361554f5",
   "metadata": {},
   "source": [
    "### Values"
   ]
  },
  {
   "cell_type": "code",
   "execution_count": 138,
   "id": "a0012cad",
   "metadata": {},
   "outputs": [
    {
     "data": {
      "text/plain": [
       "dict_values([5, 200, 10])"
      ]
     },
     "execution_count": 138,
     "metadata": {},
     "output_type": "execute_result"
    }
   ],
   "source": [
    "Dic1.values()"
   ]
  },
  {
   "cell_type": "markdown",
   "id": "8ea01807",
   "metadata": {},
   "source": [
    "### Get"
   ]
  },
  {
   "cell_type": "code",
   "execution_count": 139,
   "id": "0c314578",
   "metadata": {},
   "outputs": [
    {
     "data": {
      "text/plain": [
       "10"
      ]
     },
     "execution_count": 139,
     "metadata": {},
     "output_type": "execute_result"
    }
   ],
   "source": [
    "Dic1.get(\"Hydrogren Batteries\") # get gives value of partocular string"
   ]
  },
  {
   "cell_type": "code",
   "execution_count": 140,
   "id": "dfacc240",
   "metadata": {},
   "outputs": [
    {
     "data": {
      "text/plain": [
       "{'Gamesa Turbines': 5, 'LG Solar Panels': 200, 'Hydrogren Batteries': 10}"
      ]
     },
     "execution_count": 140,
     "metadata": {},
     "output_type": "execute_result"
    }
   ],
   "source": [
    "Dic1"
   ]
  },
  {
   "cell_type": "code",
   "execution_count": 141,
   "id": "d71d39ed",
   "metadata": {},
   "outputs": [
    {
     "data": {
      "text/plain": [
       "{'Gamesa Turbines': 5, 'LG Solar Panels': 200, 'Hydrogren Batteries': 10}"
      ]
     },
     "execution_count": 141,
     "metadata": {},
     "output_type": "execute_result"
    }
   ],
   "source": [
    "Dic1"
   ]
  },
  {
   "cell_type": "markdown",
   "id": "8b80ea7c",
   "metadata": {},
   "source": [
    "### Items"
   ]
  },
  {
   "cell_type": "code",
   "execution_count": 142,
   "id": "0db563a8",
   "metadata": {},
   "outputs": [
    {
     "data": {
      "text/plain": [
       "dict_items([('Gamesa Turbines', 5), ('LG Solar Panels', 200), ('Hydrogren Batteries', 10)])"
      ]
     },
     "execution_count": 142,
     "metadata": {},
     "output_type": "execute_result"
    }
   ],
   "source": [
    "Dic1.items()"
   ]
  },
  {
   "cell_type": "code",
   "execution_count": 143,
   "id": "118b592d",
   "metadata": {},
   "outputs": [
    {
     "data": {
      "text/plain": [
       "dict_items([('Tesla EV Cars', 3), ('Vestas', 50)])"
      ]
     },
     "execution_count": 143,
     "metadata": {},
     "output_type": "execute_result"
    }
   ],
   "source": [
    "Dic2={\"Tesla EV Cars\":3, \"Vestas\":50}\n",
    "Dic2.items()"
   ]
  },
  {
   "cell_type": "code",
   "execution_count": 144,
   "id": "aa84b72f",
   "metadata": {
    "scrolled": false
   },
   "outputs": [
    {
     "data": {
      "text/plain": [
       "{'Gamesa Turbines': 5, 'LG Solar Panels': 200, 'Hydrogren Batteries': 10}"
      ]
     },
     "execution_count": 144,
     "metadata": {},
     "output_type": "execute_result"
    }
   ],
   "source": [
    "Dic1={\"Gamesa Turbines\":20,\"LG Solar Panels\":200, \"Hydrogren Batteries\":10, \"Gamesa Turbines\":5}\n",
    "Dic1"
   ]
  },
  {
   "cell_type": "markdown",
   "id": "e9b40cb6",
   "metadata": {},
   "source": [
    "### Pop Item"
   ]
  },
  {
   "cell_type": "code",
   "execution_count": 145,
   "id": "57df2e62",
   "metadata": {},
   "outputs": [
    {
     "data": {
      "text/plain": [
       "('Hydrogren Batteries', 10)"
      ]
     },
     "execution_count": 145,
     "metadata": {},
     "output_type": "execute_result"
    }
   ],
   "source": [
    "Dic1.popitem()"
   ]
  },
  {
   "cell_type": "code",
   "execution_count": 146,
   "id": "fcf8781a",
   "metadata": {},
   "outputs": [
    {
     "data": {
      "text/plain": [
       "{'Gamesa Turbines': 5, 'LG Solar Panels': 200}"
      ]
     },
     "execution_count": 146,
     "metadata": {},
     "output_type": "execute_result"
    }
   ],
   "source": [
    "Dic1 # Pop Item removes the last item or item at right most following LIFO (last in, first out)\n",
    "# Pop remove the asked index (0th, 1th,....., nth) item only"
   ]
  },
  {
   "cell_type": "markdown",
   "id": "cb602f28",
   "metadata": {},
   "source": [
    "### From Keys"
   ]
  },
  {
   "cell_type": "code",
   "execution_count": 147,
   "id": "3730648b",
   "metadata": {},
   "outputs": [
    {
     "data": {
      "text/plain": [
       "{'Tesla EV Cars': None, 'Vestas': None}"
      ]
     },
     "execution_count": 147,
     "metadata": {},
     "output_type": "execute_result"
    }
   ],
   "source": [
    "Dic1.fromkeys(Dic2) # fromkeys is still unclear"
   ]
  },
  {
   "cell_type": "code",
   "execution_count": 148,
   "id": "c7d5e996",
   "metadata": {},
   "outputs": [],
   "source": [
    "Dic3={\"Gamesa Turbines\":5, \"Vestas\":50}"
   ]
  },
  {
   "cell_type": "code",
   "execution_count": 149,
   "id": "324da846",
   "metadata": {},
   "outputs": [
    {
     "data": {
      "text/plain": [
       "{'Gamesa Turbines': None, 'Vestas': None}"
      ]
     },
     "execution_count": 149,
     "metadata": {},
     "output_type": "execute_result"
    }
   ],
   "source": [
    "Dic1.fromkeys(Dic3)"
   ]
  },
  {
   "cell_type": "code",
   "execution_count": 150,
   "id": "8363a9ef",
   "metadata": {},
   "outputs": [
    {
     "data": {
      "text/plain": [
       "{'Gamesa Turbines': 5, 'LG Solar Panels': 200}"
      ]
     },
     "execution_count": 150,
     "metadata": {},
     "output_type": "execute_result"
    }
   ],
   "source": [
    "Dic1"
   ]
  },
  {
   "cell_type": "code",
   "execution_count": 151,
   "id": "af3e1350",
   "metadata": {},
   "outputs": [
    {
     "data": {
      "text/plain": [
       "{'Gamesa Turbines': 5, 'Vestas': 50}"
      ]
     },
     "execution_count": 151,
     "metadata": {},
     "output_type": "execute_result"
    }
   ],
   "source": [
    "Dic3"
   ]
  },
  {
   "cell_type": "code",
   "execution_count": 152,
   "id": "7223644c",
   "metadata": {},
   "outputs": [],
   "source": [
    "Dic7=dict.fromkeys(Dic1,6) # implementation slightly different than other functions !!!"
   ]
  },
  {
   "cell_type": "code",
   "execution_count": 153,
   "id": "499313c5",
   "metadata": {},
   "outputs": [
    {
     "data": {
      "text/plain": [
       "{'Gamesa Turbines': 6, 'LG Solar Panels': 6}"
      ]
     },
     "execution_count": 153,
     "metadata": {},
     "output_type": "execute_result"
    }
   ],
   "source": [
    "Dic7"
   ]
  },
  {
   "cell_type": "code",
   "execution_count": 154,
   "id": "464a8ba8",
   "metadata": {},
   "outputs": [],
   "source": [
    "Dic8=dict.fromkeys(Dic7,3)"
   ]
  },
  {
   "cell_type": "code",
   "execution_count": 155,
   "id": "a1017ee0",
   "metadata": {},
   "outputs": [
    {
     "data": {
      "text/plain": [
       "{'Gamesa Turbines': 3, 'LG Solar Panels': 3}"
      ]
     },
     "execution_count": 155,
     "metadata": {},
     "output_type": "execute_result"
    }
   ],
   "source": [
    "Dic8 # so from keys simply forms the new dictionary of same keys with the new sequence but it seems value remain same \n",
    "# for each key of newly created dictionary "
   ]
  },
  {
   "cell_type": "markdown",
   "id": "d82b4e6a",
   "metadata": {},
   "source": [
    "### Get (once more to compare with Set Default)"
   ]
  },
  {
   "cell_type": "code",
   "execution_count": 156,
   "id": "e65e3948",
   "metadata": {},
   "outputs": [
    {
     "data": {
      "text/plain": [
       "5"
      ]
     },
     "execution_count": 156,
     "metadata": {},
     "output_type": "execute_result"
    }
   ],
   "source": [
    "Dic3.get(\"Gamesa Turbines\",\"Vestas\") # get gives values of the first asked key"
   ]
  },
  {
   "cell_type": "code",
   "execution_count": 157,
   "id": "0cc14890",
   "metadata": {},
   "outputs": [],
   "source": [
    "Dic9={\"a\":1, \"b\":10, \"c\":5, \"d\":1.5}"
   ]
  },
  {
   "cell_type": "code",
   "execution_count": 158,
   "id": "0455b4b3",
   "metadata": {},
   "outputs": [
    {
     "data": {
      "text/plain": [
       "1.5"
      ]
     },
     "execution_count": 158,
     "metadata": {},
     "output_type": "execute_result"
    }
   ],
   "source": [
    "Dic9.get(\"d\", \"b\") # get gives value of first asked key independent of value"
   ]
  },
  {
   "cell_type": "markdown",
   "id": "b8c1cc85",
   "metadata": {},
   "source": [
    "### Set Default"
   ]
  },
  {
   "cell_type": "code",
   "execution_count": 159,
   "id": "907243a1",
   "metadata": {},
   "outputs": [
    {
     "data": {
      "text/plain": [
       "10"
      ]
     },
     "execution_count": 159,
     "metadata": {},
     "output_type": "execute_result"
    }
   ],
   "source": [
    "Dic9.setdefault (\"b\",\"c\") # what is difference between setdefault and get, they seem same :("
   ]
  },
  {
   "cell_type": "code",
   "execution_count": 160,
   "id": "fc5728fb",
   "metadata": {},
   "outputs": [
    {
     "data": {
      "text/plain": [
       "{'a': 1, 'b': 10, 'c': 5, 'd': 1.5}"
      ]
     },
     "execution_count": 160,
     "metadata": {},
     "output_type": "execute_result"
    }
   ],
   "source": [
    "Dic9"
   ]
  },
  {
   "cell_type": "code",
   "execution_count": 161,
   "id": "f6a46c99",
   "metadata": {},
   "outputs": [
    {
     "data": {
      "text/plain": [
       "1.5"
      ]
     },
     "execution_count": 161,
     "metadata": {},
     "output_type": "execute_result"
    }
   ],
   "source": [
    "Dic9.get(\"d\")"
   ]
  },
  {
   "cell_type": "markdown",
   "id": "f29a6b87",
   "metadata": {},
   "source": [
    "                                                       The End"
   ]
  }
 ],
 "metadata": {
  "kernelspec": {
   "display_name": "Python 3 (ipykernel)",
   "language": "python",
   "name": "python3"
  },
  "language_info": {
   "codemirror_mode": {
    "name": "ipython",
    "version": 3
   },
   "file_extension": ".py",
   "mimetype": "text/x-python",
   "name": "python",
   "nbconvert_exporter": "python",
   "pygments_lexer": "ipython3",
   "version": "3.9.7"
  }
 },
 "nbformat": 4,
 "nbformat_minor": 5
}
