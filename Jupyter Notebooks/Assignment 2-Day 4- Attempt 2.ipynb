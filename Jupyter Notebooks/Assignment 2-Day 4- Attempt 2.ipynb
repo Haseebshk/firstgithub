{
 "cells": [
  {
   "cell_type": "markdown",
   "id": "53731476",
   "metadata": {},
   "source": [
    "# Assignment 2-Day 4"
   ]
  },
  {
   "cell_type": "markdown",
   "id": "2c5630af",
   "metadata": {},
   "source": [
    "## Question 1: Why more than one variables are not being used in x axis"
   ]
  },
  {
   "cell_type": "markdown",
   "id": "94bb0399",
   "metadata": {},
   "source": [
    "## Answer\n",
    "The box plot mainly plots one variable of dataset on x axis."
   ]
  },
  {
   "cell_type": "markdown",
   "id": "2a06d984",
   "metadata": {},
   "source": [
    "### Practice"
   ]
  },
  {
   "cell_type": "code",
   "execution_count": 6,
   "id": "ef5d5523",
   "metadata": {},
   "outputs": [],
   "source": [
    "import seaborn as sns\n",
    "import numpy\n",
    "import matplotlib.pyplot as plt\n",
    "import pandas as pd\n",
    "\n",
    "clean_data=pd.read_excel(\"Cleaned_Dataset.xlsx\")"
   ]
  },
  {
   "cell_type": "code",
   "execution_count": 84,
   "id": "0861333b",
   "metadata": {},
   "outputs": [
    {
     "data": {
      "text/html": [
       "<div>\n",
       "<style scoped>\n",
       "    .dataframe tbody tr th:only-of-type {\n",
       "        vertical-align: middle;\n",
       "    }\n",
       "\n",
       "    .dataframe tbody tr th {\n",
       "        vertical-align: top;\n",
       "    }\n",
       "\n",
       "    .dataframe thead th {\n",
       "        text-align: right;\n",
       "    }\n",
       "</style>\n",
       "<table border=\"1\" class=\"dataframe\">\n",
       "  <thead>\n",
       "    <tr style=\"text-align: right;\">\n",
       "      <th></th>\n",
       "      <th>Gender</th>\n",
       "      <th>Location</th>\n",
       "      <th>Age</th>\n",
       "      <th>Qualification_completed</th>\n",
       "      <th>field_of_study</th>\n",
       "      <th>Purpose_for_chilla</th>\n",
       "      <th>What are you?</th>\n",
       "      <th>Blood group</th>\n",
       "      <th>Which mobile sim do you use</th>\n",
       "      <th>Prepaid or Postpaid</th>\n",
       "      <th>...</th>\n",
       "      <th>Your favorite programming language?</th>\n",
       "      <th>Marital Status?</th>\n",
       "      <th>Are you Vaccinated?</th>\n",
       "      <th>Where do you live?</th>\n",
       "      <th>Research/Working experience (Float/Int) years</th>\n",
       "      <th>Age (years)-Float/Int</th>\n",
       "      <th>Your Weight in kg? (float)</th>\n",
       "      <th>Height in cm? Freelancer- (Float)</th>\n",
       "      <th>How many hours you code a day? (int) e.g: 5,4,3</th>\n",
       "      <th>Light kitni der band hti hy? int</th>\n",
       "    </tr>\n",
       "  </thead>\n",
       "  <tbody>\n",
       "    <tr>\n",
       "      <th>0</th>\n",
       "      <td>Male</td>\n",
       "      <td>Pakistan</td>\n",
       "      <td>36-40</td>\n",
       "      <td>Masters</td>\n",
       "      <td>Natural Sciences</td>\n",
       "      <td>to boost my skill set</td>\n",
       "      <td>Unemplyed</td>\n",
       "      <td>B+</td>\n",
       "      <td>U-fone</td>\n",
       "      <td>Prepaid</td>\n",
       "      <td>...</td>\n",
       "      <td>Python</td>\n",
       "      <td>Yes</td>\n",
       "      <td>Yes</td>\n",
       "      <td>Urbun</td>\n",
       "      <td>5</td>\n",
       "      <td>38.00</td>\n",
       "      <td>77.0</td>\n",
       "      <td>179.0</td>\n",
       "      <td>3.0</td>\n",
       "      <td>2</td>\n",
       "    </tr>\n",
       "    <tr>\n",
       "      <th>1</th>\n",
       "      <td>Male</td>\n",
       "      <td>Pakistan</td>\n",
       "      <td>26-30</td>\n",
       "      <td>Bachelors</td>\n",
       "      <td>CS/IT</td>\n",
       "      <td>to boost my skill set</td>\n",
       "      <td>Student</td>\n",
       "      <td>B+</td>\n",
       "      <td>U-fone</td>\n",
       "      <td>Prepaid</td>\n",
       "      <td>...</td>\n",
       "      <td>Python</td>\n",
       "      <td>No</td>\n",
       "      <td>Yes</td>\n",
       "      <td>Urbun</td>\n",
       "      <td>1</td>\n",
       "      <td>25.00</td>\n",
       "      <td>53.6</td>\n",
       "      <td>178.0</td>\n",
       "      <td>2.0</td>\n",
       "      <td>6</td>\n",
       "    </tr>\n",
       "    <tr>\n",
       "      <th>2</th>\n",
       "      <td>Male</td>\n",
       "      <td>Pakistan</td>\n",
       "      <td>31-35</td>\n",
       "      <td>Masters</td>\n",
       "      <td>Enginnering</td>\n",
       "      <td>Switch my field of study</td>\n",
       "      <td>Employed</td>\n",
       "      <td>B+</td>\n",
       "      <td>Zong</td>\n",
       "      <td>Prepaid</td>\n",
       "      <td>...</td>\n",
       "      <td>Python</td>\n",
       "      <td>Yes</td>\n",
       "      <td>Yes</td>\n",
       "      <td>Urbun</td>\n",
       "      <td>5.5</td>\n",
       "      <td>31.34</td>\n",
       "      <td>93.0</td>\n",
       "      <td>173.0</td>\n",
       "      <td>2.0</td>\n",
       "      <td>0</td>\n",
       "    </tr>\n",
       "  </tbody>\n",
       "</table>\n",
       "<p>3 rows × 23 columns</p>\n",
       "</div>"
      ],
      "text/plain": [
       "  Gender  Location    Age Qualification_completed    field_of_study  \\\n",
       "0   Male  Pakistan  36-40                 Masters  Natural Sciences   \n",
       "1   Male  Pakistan  26-30               Bachelors             CS/IT   \n",
       "2   Male  Pakistan  31-35                 Masters       Enginnering   \n",
       "\n",
       "         Purpose_for_chilla What are you? Blood group   \\\n",
       "0     to boost my skill set     Unemplyed           B+   \n",
       "1     to boost my skill set       Student           B+   \n",
       "2  Switch my field of study      Employed           B+   \n",
       "\n",
       "  Which mobile sim do you use Prepaid or Postpaid  ...  \\\n",
       "0                      U-fone             Prepaid  ...   \n",
       "1                      U-fone             Prepaid  ...   \n",
       "2                        Zong             Prepaid  ...   \n",
       "\n",
       "  Your favorite programming language? Marital Status? Are you Vaccinated?  \\\n",
       "0                              Python             Yes                 Yes   \n",
       "1                              Python              No                 Yes   \n",
       "2                              Python             Yes                 Yes   \n",
       "\n",
       "  Where do you live? Research/Working experience (Float/Int) years  \\\n",
       "0              Urbun                                             5   \n",
       "1              Urbun                                             1   \n",
       "2              Urbun                                           5.5   \n",
       "\n",
       "  Age (years)-Float/Int Your Weight in kg? (float)  \\\n",
       "0                 38.00                       77.0   \n",
       "1                 25.00                       53.6   \n",
       "2                 31.34                       93.0   \n",
       "\n",
       "  Height in cm? Freelancer- (Float)  \\\n",
       "0                             179.0   \n",
       "1                             178.0   \n",
       "2                             173.0   \n",
       "\n",
       "   How many hours you code a day? (int) e.g: 5,4,3  \\\n",
       "0                                              3.0   \n",
       "1                                              2.0   \n",
       "2                                              2.0   \n",
       "\n",
       "   Light kitni der band hti hy? int  \n",
       "0                                 2  \n",
       "1                                 6  \n",
       "2                                 0  \n",
       "\n",
       "[3 rows x 23 columns]"
      ]
     },
     "execution_count": 84,
     "metadata": {},
     "output_type": "execute_result"
    }
   ],
   "source": [
    "clean_data.head(3)"
   ]
  },
  {
   "cell_type": "code",
   "execution_count": 39,
   "id": "a6adb31b",
   "metadata": {},
   "outputs": [
    {
     "data": {
      "image/png": "[encoded data removed]",
      "text/plain": [
       "<Figure size 720x288 with 1 Axes>"
      ]
     },
     "metadata": {},
     "output_type": "display_data"
    }
   ],
   "source": [
    "plt.figure(figsize=(10,4)) # setting figure size\n",
    "sns.set_style(\"whitegrid\") # setting tyle\n",
    "sns.boxplot(x=\"Age (years)-Float/Int\", data=clean_data)\n",
    "plt.title(\"Python_ka_Chilla\", weight=\"bold\", size=16)\n",
    "plt.show()"
   ]
  },
  {
   "cell_type": "code",
   "execution_count": 85,
   "id": "5ee10d22",
   "metadata": {},
   "outputs": [
    {
     "data": {
      "image/png": "[encoded data removed]",
      "text/plain": [
       "<Figure size 720x432 with 1 Axes>"
      ]
     },
     "metadata": {},
     "output_type": "display_data"
    }
   ],
   "source": [
    "plt.figure(figsize=(10,6)) # setting figure size\n",
    "sns.set_style(\"whitegrid\") # setting tyle\n",
    "sns.boxplot(x=\"Age (years)-Float/Int\", y= \"Gender\", hue=\"What are you?\", data=clean_data)\n",
    "plt.title(\"Python_ka_Chilla\", weight=\"bold\", size=16)\n",
    "plt.show()"
   ]
  },
  {
   "cell_type": "markdown",
   "id": "a300893e",
   "metadata": {},
   "source": [
    "## Question 2: How to change hue color mannually?"
   ]
  },
  {
   "cell_type": "markdown",
   "id": "e04cbd83",
   "metadata": {},
   "source": [
    "## Answer"
   ]
  },
  {
   "cell_type": "markdown",
   "id": "364895ad",
   "metadata": {},
   "source": [
    "### Method 1"
   ]
  },
  {
   "cell_type": "code",
   "execution_count": 59,
   "id": "c2426747",
   "metadata": {},
   "outputs": [
    {
     "data": {
      "image/png": "[encoded data removed]",
      "text/plain": [
       "<Figure size 432x288 with 1 Axes>"
      ]
     },
     "metadata": {},
     "output_type": "display_data"
    }
   ],
   "source": [
    "sns.boxplot(x=\"Age (years)-Float/Int\", y= \"Gender\", hue=\"Marital Status?\", \n",
    "            data=clean_data, saturation=1, palette=[\"k\", \"C1\"])\n",
    "plt.title(\"Python_ka_Chilla\")\n",
    "plt.show()"
   ]
  },
  {
   "cell_type": "markdown",
   "id": "0a528f28",
   "metadata": {},
   "source": [
    "### Method 2"
   ]
  },
  {
   "cell_type": "markdown",
   "id": "d19000ff",
   "metadata": {},
   "source": [
    "This method is proper than method 1 like when we have different graphs containing \n",
    "some common and some different variables, we do not need to describe palette again\n",
    "and again, just declare it once. And in this same variables have same colors that\n",
    "is needed."
   ]
  },
  {
   "cell_type": "code",
   "execution_count": 65,
   "id": "d2de38c5",
   "metadata": {},
   "outputs": [
    {
     "data": {
      "image/png": "[encoded data removed]",
      "text/plain": [
       "<Figure size 432x288 with 1 Axes>"
      ]
     },
     "metadata": {},
     "output_type": "display_data"
    }
   ],
   "source": [
    "plt.figure()\n",
    "p= {\"Yes\":\"k\", \"No\":\"C1\"}\n",
    "sns.boxplot(x=\"Age (years)-Float/Int\", y= \"Gender\", hue=\"Marital Status?\", \n",
    "            data=clean_data, saturation=1, palette=p)\n",
    "plt.title(\"Python_ka_Chilla\", weight=\"bold\", size=16)\n",
    "plt.show()"
   ]
  },
  {
   "cell_type": "markdown",
   "id": "f0bed230",
   "metadata": {},
   "source": [
    "## Question 3- What facecolor combination tells us?"
   ]
  },
  {
   "cell_type": "markdown",
   "id": "7bec26dc",
   "metadata": {},
   "source": [
    "## Answer"
   ]
  },
  {
   "cell_type": "markdown",
   "id": "64bcd646",
   "metadata": {},
   "source": [
    "Facecolor has four digits in range of 0-1; facecolor(Red,Blue,Green,Opacity). Combining red, blue and green colors are formed and last digits manages the opacity of the color. "
   ]
  },
  {
   "cell_type": "markdown",
   "id": "d5b82da8",
   "metadata": {},
   "source": [
    "## Question 4- Why v variable in Orient was Showing Error?"
   ]
  },
  {
   "cell_type": "markdown",
   "id": "e82a95b4",
   "metadata": {},
   "source": [
    "## Answer"
   ]
  },
  {
   "cell_type": "markdown",
   "id": "c9f1fab1",
   "metadata": {},
   "source": [
    "For orient it is necessary that; for horizontal (h) x axis should be numeric \n",
    "and for vertical (v) y axis should be numeric."
   ]
  },
  {
   "cell_type": "markdown",
   "id": "4c5b9725",
   "metadata": {},
   "source": [
    "### Proof"
   ]
  },
  {
   "cell_type": "code",
   "execution_count": 80,
   "id": "bba5ead2",
   "metadata": {},
   "outputs": [
    {
     "data": {
      "image/png": "[encoded data removed]",
      "text/plain": [
       "<Figure size 1080x432 with 1 Axes>"
      ]
     },
     "metadata": {},
     "output_type": "display_data"
    }
   ],
   "source": [
    "plt.figure(figsize=(15,6))\n",
    "p={\"Yes\":\"k\", \"No\":\"C1\"}\n",
    "sns.boxplot(x=\"How many hours you code a day? (int) e.g: 5,4,3\", y= \"Gender\", hue=\"Marital Status?\", orient=\"h\",\n",
    "            data=clean_data, saturation=1, palette=p, dodge=False)\n",
    "plt.xlabel(\"Hours\", size=13, weight=\"bold\")\n",
    "plt.ylabel(\"Gender\", size=13, weight=\"bold\")\n",
    "plt.title(\"Python_ka_Chilla\", weight=\"bold\", size=16)\n",
    "plt.show()"
   ]
  }
 ],
 "metadata": {
  "kernelspec": {
   "display_name": "Python 3 (ipykernel)",
   "language": "python",
   "name": "python3"
  },
  "language_info": {
   "codemirror_mode": {
    "name": "ipython",
    "version": 3
   },
   "file_extension": ".py",
   "mimetype": "text/x-python",
   "name": "python",
   "nbconvert_exporter": "python",
   "pygments_lexer": "ipython3",
   "version": "3.9.7"
  }
 },
 "nbformat": 4,
 "nbformat_minor": 5
}
