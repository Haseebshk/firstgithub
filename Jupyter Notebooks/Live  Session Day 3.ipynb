{
 "cells": [
  {
   "cell_type": "markdown",
   "id": "c4c8892b",
   "metadata": {},
   "source": [
    "# Live Session- Day 3"
   ]
  },
  {
   "cell_type": "markdown",
   "id": "185ec29a",
   "metadata": {},
   "source": [
    "## Code 1 - Data Retrieved from Library"
   ]
  },
  {
   "cell_type": "code",
   "execution_count": 4,
   "id": "e644d626",
   "metadata": {},
   "outputs": [
    {
     "data": {
      "image/png": "[encoded data removed]",
      "text/plain": [
       "<Figure size 432x288 with 1 Axes>"
      ]
     },
     "metadata": {},
     "output_type": "display_data"
    }
   ],
   "source": [
    "# Step 1: first step is to import the library like you need to tell Python\n",
    "#which library you need\n",
    "import seaborn as sns # Remember this line, it remains same\n",
    "import matplotlib.pyplot as plt # Remember this line, it remains same\n",
    "# Set the Theme, here you need aesthetics, different styles likewise ticks\n",
    "# are present for seaborn library on interne.\n",
    "sns.set_theme(style=\"ticks\", color_codes=True)\n",
    "# Load the data, i.e the data you need to see in the graph\n",
    "# it can be the one already loaded in library like titanic (the titanic incident data)\n",
    "kashti=sns.load_dataset(\"titanic\") # kashti on left of equal is the name of dataset\n",
    "# you have chosen and on right side (\"titanic\") is the actual dataset that is needed be to load.\n",
    "# Set the type of plot (graph), variables like x,y and hue, kind like bar \n",
    "# and in last you should tell what data you need to show\n",
    "p=sns.countplot(x=\"sex\", hue=\"class\", data=kashti)\n",
    "plt.show()"
   ]
  },
  {
   "cell_type": "markdown",
   "id": "219a7980",
   "metadata": {},
   "source": [
    "## Code 2- Data Collected and then Programmed in Code"
   ]
  },
  {
   "cell_type": "code",
   "execution_count": 8,
   "id": "2650b173",
   "metadata": {},
   "outputs": [
    {
     "name": "stdout",
     "output_type": "stream",
     "text": [
      "             Timestamp  Gender    Age  Location Time of class (pm)  \\\n",
      "0    1/3/2022 19:09:29    Male  16-30  Pakistan              10:30   \n",
      "1    1/3/2022 19:09:33    Male  16-30  Pakistan              10:00   \n",
      "2    1/3/2022 19:09:33    Male  16-30  Pakistan              10:00   \n",
      "3    1/3/2022 19:09:33    Male  30-40  Pakistan              09:30   \n",
      "4    1/3/2022 19:09:34    Male  16-30      East              09:30   \n",
      "..                 ...     ...    ...       ...                ...   \n",
      "301  1/3/2022 19:11:51    Male  16-30  Pakistan              09:30   \n",
      "302  1/3/2022 19:11:52    Male  16-30  Pakistan              10:30   \n",
      "303  1/3/2022 19:11:53    Male  16-30  Pakistan              10:00   \n",
      "304  1/3/2022 19:11:54  Female  16-30  Pakistan              10:30   \n",
      "305  1/3/2022 19:11:55    Male  16-30  Pakistan              10:30   \n",
      "\n",
      "     Duration (min)  \n",
      "0                60  \n",
      "1                60  \n",
      "2                30  \n",
      "3                30  \n",
      "4                60  \n",
      "..              ...  \n",
      "301              30  \n",
      "302              45  \n",
      "303              60  \n",
      "304              60  \n",
      "305              45  \n",
      "\n",
      "[306 rows x 6 columns]\n"
     ]
    },
    {
     "data": {
      "image/png": "[encoded data removed]",
      "text/plain": [
       "<Figure size 432x288 with 1 Axes>"
      ]
     },
     "metadata": {},
     "output_type": "display_data"
    }
   ],
   "source": [
    "# Import Your Data\n",
    "\n",
    "## Step 1: Import library\n",
    "import pandas as pd # remains same for pandas\n",
    "\n",
    "## Step 2 : Import the data\n",
    "classinfo=pd.read_csv(\"data_viz.csv\") # main script remain same like name x=pd.read_typeoffile(\"full name of file\")\n",
    "\n",
    "## Step 3: Check\n",
    "print(classinfo)\n",
    "\n",
    "# Draw the Graph\n",
    "import seaborn as sns # remains same\n",
    "import matplotlib.pyplot as plt # remains same\n",
    "\n",
    "## Step 1: Set the Theme\n",
    "sns.set_theme(style=\"ticks\", color_codes=True)\n",
    "\n",
    "## here it should be noted we have not loaded data because it is already available above\n",
    "## we just want to address in coming step\n",
    "\n",
    "## Step 2 : Type of plot (graph), variables like x,y and hue, kind like bar \n",
    "p=sns.countplot(x=\"Gender\", hue=\"Duration (min)\", data=classinfo)\n",
    "plt.show()\n",
    "# The End"
   ]
  },
  {
   "cell_type": "code",
   "execution_count": null,
   "id": "09854dba",
   "metadata": {},
   "outputs": [],
   "source": []
  }
 ],
 "metadata": {
  "kernelspec": {
   "display_name": "Python 3 (ipykernel)",
   "language": "python",
   "name": "python3"
  },
  "language_info": {
   "codemirror_mode": {
    "name": "ipython",
    "version": 3
   },
   "file_extension": ".py",
   "mimetype": "text/x-python",
   "name": "python",
   "nbconvert_exporter": "python",
   "pygments_lexer": "ipython3",
   "version": "3.9.7"
  }
 },
 "nbformat": 4,
 "nbformat_minor": 5
}
