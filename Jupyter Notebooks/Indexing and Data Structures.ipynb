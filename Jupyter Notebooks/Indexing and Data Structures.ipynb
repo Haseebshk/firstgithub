{
 "cells": [
  {
   "cell_type": "markdown",
   "id": "110b3555",
   "metadata": {},
   "source": [
    "# - Indexing"
   ]
  },
  {
   "cell_type": "code",
   "execution_count": 1,
   "id": "e40a699a",
   "metadata": {},
   "outputs": [
    {
     "data": {
      "text/plain": [
       "['Haseeb Shaikh']"
      ]
     },
     "execution_count": 1,
     "metadata": {},
     "output_type": "execute_result"
    }
   ],
   "source": [
    "a=[\"Haseeb Shaikh\"] # In notebook there is no need to write print\n",
    "a"
   ]
  },
  {
   "cell_type": "code",
   "execution_count": 2,
   "id": "73042533",
   "metadata": {},
   "outputs": [
    {
     "data": {
      "text/plain": [
       "'Haseeb Shaikh'"
      ]
     },
     "execution_count": 2,
     "metadata": {},
     "output_type": "execute_result"
    }
   ],
   "source": [
    "a='Haseeb Shaikh'\n",
    "a"
   ]
  },
  {
   "cell_type": "code",
   "execution_count": 3,
   "id": "12a58410",
   "metadata": {},
   "outputs": [
    {
     "data": {
      "text/plain": [
       "'Haseeb Shaikh'"
      ]
     },
     "execution_count": 3,
     "metadata": {},
     "output_type": "execute_result"
    }
   ],
   "source": [
    "a=\"Haseeb Shaikh\"\n",
    "a"
   ]
  },
  {
   "cell_type": "code",
   "execution_count": 4,
   "id": "5c12d193",
   "metadata": {},
   "outputs": [
    {
     "data": {
      "text/plain": [
       "'H'"
      ]
     },
     "execution_count": 4,
     "metadata": {},
     "output_type": "execute_result"
    }
   ],
   "source": [
    "a=\"Haseeb Shaikh\"\n",
    "a[0]"
   ]
  },
  {
   "cell_type": "code",
   "execution_count": 5,
   "id": "33a97715",
   "metadata": {},
   "outputs": [
    {
     "data": {
      "text/plain": [
       "' '"
      ]
     },
     "execution_count": 5,
     "metadata": {},
     "output_type": "execute_result"
    }
   ],
   "source": [
    "a[6]"
   ]
  },
  {
   "cell_type": "code",
   "execution_count": 6,
   "id": "e7f70a34",
   "metadata": {},
   "outputs": [
    {
     "data": {
      "text/plain": [
       "13"
      ]
     },
     "execution_count": 6,
     "metadata": {},
     "output_type": "execute_result"
    }
   ],
   "source": [
    "len(a)"
   ]
  },
  {
   "cell_type": "code",
   "execution_count": 7,
   "id": "0dd375e1",
   "metadata": {},
   "outputs": [
    {
     "data": {
      "text/plain": [
       "'Haseeb'"
      ]
     },
     "execution_count": 7,
     "metadata": {},
     "output_type": "execute_result"
    }
   ],
   "source": [
    "a[0:6]"
   ]
  },
  {
   "cell_type": "code",
   "execution_count": 8,
   "id": "3eba3b11",
   "metadata": {},
   "outputs": [
    {
     "data": {
      "text/plain": [
       "'Haseeb Shaik'"
      ]
     },
     "execution_count": 8,
     "metadata": {},
     "output_type": "execute_result"
    }
   ],
   "source": [
    "a[0:12]"
   ]
  },
  {
   "cell_type": "code",
   "execution_count": 9,
   "id": "7714e544",
   "metadata": {},
   "outputs": [
    {
     "data": {
      "text/plain": [
       "'Haseeb Shaikh'"
      ]
     },
     "execution_count": 9,
     "metadata": {},
     "output_type": "execute_result"
    }
   ],
   "source": [
    "a[0:13]"
   ]
  },
  {
   "cell_type": "markdown",
   "id": "fbafd3b0",
   "metadata": {},
   "source": [
    "## Uppercase"
   ]
  },
  {
   "cell_type": "code",
   "execution_count": 10,
   "id": "8ffca157",
   "metadata": {},
   "outputs": [
    {
     "data": {
      "text/plain": [
       "'HASEEB SHAIKH'"
      ]
     },
     "execution_count": 10,
     "metadata": {},
     "output_type": "execute_result"
    }
   ],
   "source": [
    "a.upper()"
   ]
  },
  {
   "cell_type": "markdown",
   "id": "89dacc32",
   "metadata": {},
   "source": [
    "## Lowercase"
   ]
  },
  {
   "cell_type": "code",
   "execution_count": 11,
   "id": "a4fcdc42",
   "metadata": {},
   "outputs": [
    {
     "data": {
      "text/plain": [
       "'haseeb shaikh'"
      ]
     },
     "execution_count": 11,
     "metadata": {},
     "output_type": "execute_result"
    }
   ],
   "source": [
    "a.lower()"
   ]
  },
  {
   "cell_type": "markdown",
   "id": "182f65c7",
   "metadata": {},
   "source": [
    "## Replace"
   ]
  },
  {
   "cell_type": "code",
   "execution_count": 12,
   "id": "63472b8a",
   "metadata": {},
   "outputs": [
    {
     "data": {
      "text/plain": [
       "'Shaikh Haseeb'"
      ]
     },
     "execution_count": 12,
     "metadata": {},
     "output_type": "execute_result"
    }
   ],
   "source": [
    "a.replace(\"Haseeb Shaikh\", \"Shaikh Haseeb\")"
   ]
  },
  {
   "cell_type": "markdown",
   "id": "853e6ef7",
   "metadata": {},
   "source": [
    "## Count"
   ]
  },
  {
   "cell_type": "code",
   "execution_count": 13,
   "id": "4dd0ec7e",
   "metadata": {},
   "outputs": [
    {
     "data": {
      "text/plain": [
       "1"
      ]
     },
     "execution_count": 13,
     "metadata": {},
     "output_type": "execute_result"
    }
   ],
   "source": [
    "a.count(\"ee\")"
   ]
  },
  {
   "cell_type": "code",
   "execution_count": 14,
   "id": "2ef8c541",
   "metadata": {},
   "outputs": [
    {
     "data": {
      "text/plain": [
       "2"
      ]
     },
     "execution_count": 14,
     "metadata": {},
     "output_type": "execute_result"
    }
   ],
   "source": [
    "a.count(\"e\")"
   ]
  },
  {
   "cell_type": "markdown",
   "id": "1f26e665",
   "metadata": {},
   "source": [
    "## Find"
   ]
  },
  {
   "cell_type": "code",
   "execution_count": 15,
   "id": "df7647b0",
   "metadata": {},
   "outputs": [
    {
     "data": {
      "text/plain": [
       "10"
      ]
     },
     "execution_count": 15,
     "metadata": {},
     "output_type": "execute_result"
    }
   ],
   "source": [
    "a.find(\"i\")"
   ]
  },
  {
   "cell_type": "code",
   "execution_count": 16,
   "id": "5ceab7ed",
   "metadata": {},
   "outputs": [
    {
     "data": {
      "text/plain": [
       "8"
      ]
     },
     "execution_count": 16,
     "metadata": {},
     "output_type": "execute_result"
    }
   ],
   "source": [
    "a.find(\"h\") # its case sensitive so H capital has 0th index but small h has 8th index."
   ]
  },
  {
   "cell_type": "code",
   "execution_count": 17,
   "id": "dc2f385e",
   "metadata": {},
   "outputs": [
    {
     "data": {
      "text/plain": [
       "0"
      ]
     },
     "execution_count": 17,
     "metadata": {},
     "output_type": "execute_result"
    }
   ],
   "source": [
    "a.find(\"H\")"
   ]
  },
  {
   "cell_type": "markdown",
   "id": "d58197c1",
   "metadata": {},
   "source": [
    "## Split"
   ]
  },
  {
   "cell_type": "code",
   "execution_count": 18,
   "id": "d0051fad",
   "metadata": {},
   "outputs": [
    {
     "data": {
      "text/plain": [
       "['H', 'seeb Sh', 'ikh']"
      ]
     },
     "execution_count": 18,
     "metadata": {},
     "output_type": "execute_result"
    }
   ],
   "source": [
    "a.split(\"a\")"
   ]
  },
  {
   "cell_type": "code",
   "execution_count": 19,
   "id": "d9730f72",
   "metadata": {},
   "outputs": [
    {
     "data": {
      "text/plain": [
       "['Haseeb', 'Shaikh']"
      ]
     },
     "execution_count": 19,
     "metadata": {},
     "output_type": "execute_result"
    }
   ],
   "source": [
    "a.split(\" \")"
   ]
  },
  {
   "cell_type": "code",
   "execution_count": null,
   "id": "d9f352f9",
   "metadata": {},
   "outputs": [],
   "source": []
  }
 ],
 "metadata": {
  "kernelspec": {
   "display_name": "Python 3 (ipykernel)",
   "language": "python",
   "name": "python3"
  },
  "language_info": {
   "codemirror_mode": {
    "name": "ipython",
    "version": 3
   },
   "file_extension": ".py",
   "mimetype": "text/x-python",
   "name": "python",
   "nbconvert_exporter": "python",
   "pygments_lexer": "ipython3",
   "version": "3.9.7"
  }
 },
 "nbformat": 4,
 "nbformat_minor": 5
}
